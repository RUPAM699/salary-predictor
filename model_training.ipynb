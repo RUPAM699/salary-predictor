{
 "cells": [
  {
   "cell_type": "code",
   "execution_count": null,
   "id": "43214494",
   "metadata": {},
   "outputs": [],
   "source": [
    "import numpy as np\n",
    "import pandas as pd\n",
    "import matplotlib.pyplot as plt\n",
    "import seaborn as sns\n",
    "\n",
    "from sklearn.model_selection import train_test_split\n",
    "from sklearn.preprocessing import LabelEncoder\n",
    "from sklearn.preprocessing import OneHotEncoder\n",
    "from sklearn.pipeline import Pipeline\n",
    "from sklearn.preprocessing import StandardScaler\n",
    "\n",
    "from sklearn.linear_model import LogisticRegression\n",
    "from sklearn.ensemble import RandomForestClassifier, GradientBoostingClassifier\n",
    "from sklearn.neighbors import KNeighborsClassifier\n",
    "from sklearn.svm import SVC\n",
    "\n",
    "from sklearn.metrics import accuracy_score, classification_report\n",
    "\n",
    "import joblib\n",
    "import pickle\n"
   ]
  },
  {
   "cell_type": "code",
   "execution_count": null,
   "id": "5485871a",
   "metadata": {},
   "outputs": [],
   "source": [
    "data = pd.read_csv('adult.csv')\n",
    "data.head()"
   ]
  },
  {
   "cell_type": "code",
   "execution_count": null,
   "id": "ab02566d",
   "metadata": {},
   "outputs": [],
   "source": [
    "data.shape"
   ]
  },
  {
   "cell_type": "code",
   "execution_count": null,
   "id": "8b47de94",
   "metadata": {},
   "outputs": [],
   "source": [
    "data.isna().sum()"
   ]
  },
  {
   "cell_type": "code",
   "execution_count": null,
   "id": "3edc7382",
   "metadata": {},
   "outputs": [],
   "source": [
    "data.workclass.value_counts()"
   ]
  },
  {
   "cell_type": "code",
   "execution_count": null,
   "id": "0f33c94d",
   "metadata": {},
   "outputs": [],
   "source": [
    "data.workclass.replace({'?':'Others'},inplace=True)\n",
    "data['workclass'].value_counts()"
   ]
  },
  {
   "cell_type": "code",
   "execution_count": null,
   "id": "8e444c15",
   "metadata": {},
   "outputs": [],
   "source": [
    "data['occupation'].value_counts()"
   ]
  },
  {
   "cell_type": "code",
   "execution_count": null,
   "id": "f03c403b",
   "metadata": {},
   "outputs": [],
   "source": [
    "data.occupation.replace({'?':'Others'},inplace=True)\n",
    "data['occupation'].value_counts()"
   ]
  },
  {
   "cell_type": "code",
   "execution_count": null,
   "id": "6b7433ba",
   "metadata": {},
   "outputs": [],
   "source": [
    "data['native-country'].replace({'?':'Others'},inplace=True)\n",
    "data['native-country'].value_counts()"
   ]
  },
  {
   "cell_type": "code",
   "execution_count": null,
   "id": "0d64552e",
   "metadata": {},
   "outputs": [],
   "source": [
    "data=data[data['workclass']!='Without-pay']\n",
    "data=data[data['workclass']!='Never-worked']\n",
    "data['workclass'].value_counts()"
   ]
  },
  {
   "cell_type": "code",
   "execution_count": null,
   "id": "7c8c3ae9",
   "metadata": {},
   "outputs": [],
   "source": [
    "data.relationship.value_counts()"
   ]
  },
  {
   "cell_type": "code",
   "execution_count": null,
   "id": "a112f496",
   "metadata": {},
   "outputs": [],
   "source": [
    "data.gender.value_counts()"
   ]
  },
  {
   "cell_type": "code",
   "execution_count": null,
   "id": "82db85f6",
   "metadata": {},
   "outputs": [],
   "source": [
    "data.shape"
   ]
  },
  {
   "cell_type": "code",
   "execution_count": null,
   "id": "40a9b88f",
   "metadata": {},
   "outputs": [],
   "source": [
    "plt.boxplot(data['age'])\n",
    "plt.show()"
   ]
  },
  {
   "cell_type": "code",
   "execution_count": null,
   "id": "ff12c160",
   "metadata": {},
   "outputs": [],
   "source": [
    "data=data[(data['age']<=75)&(data['age']>=17)]"
   ]
  },
  {
   "cell_type": "code",
   "execution_count": null,
   "id": "c6b7be97",
   "metadata": {},
   "outputs": [],
   "source": [
    "plt.boxplot(data['age'])\n",
    "plt.show()"
   ]
  },
  {
   "cell_type": "code",
   "execution_count": null,
   "id": "4731ebcf",
   "metadata": {},
   "outputs": [],
   "source": [
    "data.shape"
   ]
  },
  {
   "cell_type": "code",
   "execution_count": null,
   "id": "6c993348",
   "metadata": {},
   "outputs": [],
   "source": [
    "plt.boxplot(data['capital-gain'])\n",
    "plt.show()"
   ]
  },
  {
   "cell_type": "code",
   "execution_count": null,
   "id": "27111636",
   "metadata": {},
   "outputs": [],
   "source": [
    "plt.boxplot(data['educational-num'])\n",
    "plt.show()"
   ]
  },
  {
   "cell_type": "code",
   "execution_count": null,
   "id": "875f2e42",
   "metadata": {},
   "outputs": [],
   "source": [
    "data=data[(data['educational-num']<=16)&(data['educational-num']>=5)]"
   ]
  },
  {
   "cell_type": "code",
   "execution_count": null,
   "id": "c8539c61",
   "metadata": {},
   "outputs": [],
   "source": [
    "plt.boxplot(data['educational-num'])\n",
    "plt.show()"
   ]
  },
  {
   "cell_type": "code",
   "execution_count": null,
   "id": "7f6db6db",
   "metadata": {},
   "outputs": [],
   "source": [
    "plt.boxplot(data['hours-per-week'])\n",
    "plt.show()"
   ]
  },
  {
   "cell_type": "code",
   "execution_count": null,
   "id": "84da353c",
   "metadata": {},
   "outputs": [],
   "source": [
    "data=data.drop(columns=['education']) #redundant features removal"
   ]
  },
  {
   "cell_type": "code",
   "execution_count": null,
   "id": "d50548e7",
   "metadata": {},
   "outputs": [],
   "source": [
    "label_encoders = {}\n",
    "categorical_cols = ['workclass', 'marital-status', 'occupation', 'relationship', 'race', 'gender', 'native-country']\n",
    "\n",
    "for col in categorical_cols:\n",
    "    le = LabelEncoder()\n",
    "    data[col] = le.fit_transform(data[col])\n",
    "    label_encoders[col] = le\n",
    "\n",
    "# Save encoders\n",
    "with open('label_encoders.pkl', 'wb') as f:\n",
    "    pickle.dump(label_encoders, f)"
   ]
  },
  {
   "cell_type": "code",
   "execution_count": null,
   "id": "64ed8733",
   "metadata": {},
   "outputs": [],
   "source": [
    "data.head()"
   ]
  },
  {
   "cell_type": "code",
   "execution_count": null,
   "id": "91e19585",
   "metadata": {},
   "outputs": [],
   "source": [
    "data['income'] = data['income'].map({'<=50K': 0, '>50K': 1})"
   ]
  },
  {
   "cell_type": "code",
   "execution_count": null,
   "id": "163ed8ce",
   "metadata": {},
   "outputs": [],
   "source": [
    "data.head()"
   ]
  },
  {
   "cell_type": "code",
   "execution_count": null,
   "id": "7c8072cd",
   "metadata": {},
   "outputs": [],
   "source": [
    "X = data.drop(columns=['income'])\n",
    "y = data['income']"
   ]
  },
  {
   "cell_type": "code",
   "execution_count": null,
   "id": "80cf0240",
   "metadata": {},
   "outputs": [],
   "source": [
    "X.head(10)"
   ]
  },
  {
   "cell_type": "code",
   "execution_count": null,
   "id": "63c649a5",
   "metadata": {},
   "outputs": [],
   "source": [
    "y.head(10)"
   ]
  },
  {
   "cell_type": "code",
   "execution_count": null,
   "id": "01416c21",
   "metadata": {},
   "outputs": [],
   "source": [
    "scaler = StandardScaler()\n",
    "\n",
    "X_scaled = pd.DataFrame(scaler.fit_transform(X), columns=X.columns)"
   ]
  },
  {
   "cell_type": "code",
   "execution_count": null,
   "id": "454f4d4d",
   "metadata": {},
   "outputs": [],
   "source": [
    "X_scaled.head()"
   ]
  },
  {
   "cell_type": "code",
   "execution_count": null,
   "id": "3052e5aa",
   "metadata": {},
   "outputs": [],
   "source": [
    "with open('scaler.pkl', 'wb') as f:\n",
    "    pickle.dump(scaler, f)"
   ]
  },
  {
   "cell_type": "code",
   "execution_count": null,
   "id": "696f9f4e",
   "metadata": {},
   "outputs": [],
   "source": [
    "X_train, X_test, y_train, y_test = train_test_split(X_scaled, y, test_size=0.2, random_state=42)"
   ]
  },
  {
   "cell_type": "code",
   "execution_count": null,
   "id": "8cb23540",
   "metadata": {},
   "outputs": [],
   "source": [
    "X_train.shape,y_train.shape"
   ]
  },
  {
   "cell_type": "code",
   "execution_count": null,
   "id": "74421d0f",
   "metadata": {},
   "outputs": [],
   "source": [
    "X_test.shape,y_test.shape"
   ]
  },
  {
   "cell_type": "code",
   "execution_count": null,
   "id": "108a47cd",
   "metadata": {},
   "outputs": [],
   "source": [
    "with open(\"column_order.pkl\", \"wb\") as f:\n",
    "    pickle.dump(X_train.columns.tolist(), f)"
   ]
  },
  {
   "cell_type": "code",
   "execution_count": null,
   "id": "494f3d3a",
   "metadata": {},
   "outputs": [],
   "source": [
    "models = {\n",
    "    \"Logistic Regression\": LogisticRegression(),\n",
    "    \"Random Forest\": RandomForestClassifier(),\n",
    "    \"SVM\": SVC(),\n",
    "    \"KNN\": KNeighborsClassifier(),\n",
    "    \"GradientBoostingClassifier\": GradientBoostingClassifier()\n",
    "}\n"
   ]
  },
  {
   "cell_type": "code",
   "execution_count": null,
   "id": "4011654b",
   "metadata": {},
   "outputs": [],
   "source": [
    "results = {}"
   ]
  },
  {
   "cell_type": "code",
   "execution_count": null,
   "id": "ca23ea0b",
   "metadata": {},
   "outputs": [],
   "source": [
    "best_accuracy = 0\n",
    "best_model = None\n",
    "best_model_name = \"\"\n",
    "\n",
    "\n",
    "for name, model in models.items():\n",
    "    model.fit(X_train, y_train)\n",
    "    y_pred = model.predict(X_test)\n",
    "    acc = accuracy_score(y_test, y_pred)\n",
    "    results[name] = acc\n",
    "    \n",
    "    if acc > best_accuracy:\n",
    "        best_accuracy = acc\n",
    "        best_model = model\n",
    "        best_model_name = name\n",
    "\n",
    "with open(f'{best_model_name}_best_model.pkl', 'wb') as file:\n",
    "    pickle.dump(best_model, file)\n",
    "    \n",
    "print(f\"Saved best model: {best_model_name} with accuracy {best_accuracy:.4f}\")\n"
   ]
  },
  {
   "cell_type": "code",
   "execution_count": null,
   "id": "67f29f75",
   "metadata": {},
   "outputs": [],
   "source": [
    "results_df = pd.DataFrame(list(results.items()), columns=['Model', 'Accuracy'])\n",
    "results_df.sort_values(by='Accuracy', ascending=False)"
   ]
  },
  {
   "cell_type": "code",
   "execution_count": null,
   "id": "3f51495d",
   "metadata": {},
   "outputs": [],
   "source": [
    "%%writefile app.py\n",
    "import streamlit as st\n",
    "import pandas as pd\n",
    "import joblib\n",
    "\n",
    "# Load the trained model\n",
    "model = joblib.load(\"GradientBoostingClassifier_best_model.pkl\")\n",
    "\n",
    "st.set_page_config(page_title=\"Employee Salary Classification\", page_icon=\"💼\", layout=\"centered\")\n",
    "\n",
    "st.title(\"💼 Employee Salary Classification App\")\n",
    "st.markdown(\"Predict whether an employee earns >50K or ≤50K based on input features.\")\n",
    "\n",
    "# Sidebar inputs (these must match your training feature columns)\n",
    "st.sidebar.header(\"Input Employee Details\")\n",
    "\n",
    "# ✨ Replace these fields with your dataset's actual input columns\n",
    "age = st.sidebar.slider(\"Age\", 18, 65, 30)\n",
    "education = st.sidebar.selectbox(\"Education Level\", [\n",
    "    \"Bachelors\", \"Masters\", \"PhD\", \"HS-grad\", \"Assoc\", \"Some-college\"\n",
    "])\n",
    "occupation = st.sidebar.selectbox(\"Job Role\", [\n",
    "    \"Tech-support\", \"Craft-repair\", \"Other-service\", \"Sales\",\n",
    "    \"Exec-managerial\", \"Prof-specialty\", \"Handlers-cleaners\", \"Machine-op-inspct\",\n",
    "    \"Adm-clerical\", \"Farming-fishing\", \"Transport-moving\", \"Priv-house-serv\",\n",
    "    \"Protective-serv\", \"Armed-Forces\"\n",
    "])\n",
    "hours_per_week = st.sidebar.slider(\"Hours per week\", 1, 80, 40)\n",
    "experience = st.sidebar.slider(\"Years of Experience\", 0, 40, 5)\n",
    "\n",
    "# Build input DataFrame (⚠️ must match preprocessing of your training data)\n",
    "input_df = pd.DataFrame({\n",
    "    'age': [age],\n",
    "    'education': [education],\n",
    "    'occupation': [occupation],\n",
    "    'hours-per-week': [hours_per_week],\n",
    "    'experience': [experience]\n",
    "})\n",
    "\n",
    "st.write(\"### 🔎 Input Data\")\n",
    "st.write(input_df)\n",
    "\n",
    "# Predict button\n",
    "if st.button(\"Predict Salary Class\"):\n",
    "    prediction = model.predict(input_df)\n",
    "    st.success(f\"✅ Prediction: {prediction[0]}\")\n",
    "\n",
    "# Batch prediction\n",
    "st.markdown(\"---\")\n",
    "st.markdown(\"#### 📂 Batch Prediction\")\n",
    "uploaded_file = st.file_uploader(\"Upload a CSV file for batch prediction\", type=\"csv\")\n",
    "\n",
    "if uploaded_file is not None:\n",
    "    batch_data = pd.read_csv(uploaded_file)\n",
    "    st.write(\"Uploaded data preview:\", batch_data.head())\n",
    "    batch_preds = model.predict(batch_data)\n",
    "    batch_data['PredictedClass'] = batch_preds\n",
    "    st.write(\"✅ Predictions:\")\n",
    "    st.write(batch_data.head())\n",
    "    csv = batch_data.to_csv(index=False).encode('utf-8')\n",
    "    st.download_button(\"Download Predictions CSV\", csv, file_name='predicted_classes.csv', mime='text/csv')\n",
    "\n"
   ]
  },
  {
   "cell_type": "code",
   "execution_count": null,
   "id": "37b61c49",
   "metadata": {},
   "outputs": [],
   "source": [
    "!streamlit run app.py"
   ]
  },
  {
   "cell_type": "code",
   "execution_count": null,
   "id": "8bb9ba64",
   "metadata": {},
   "outputs": [],
   "source": []
  }
 ],
 "metadata": {
  "kernelspec": {
   "display_name": "env",
   "language": "python",
   "name": "python3"
  },
  "language_info": {
   "codemirror_mode": {
    "name": "ipython",
    "version": 3
   },
   "file_extension": ".py",
   "mimetype": "text/x-python",
   "name": "python",
   "nbconvert_exporter": "python",
   "pygments_lexer": "ipython3",
   "version": "3.10.11"
  }
 },
 "nbformat": 4,
 "nbformat_minor": 5
}
