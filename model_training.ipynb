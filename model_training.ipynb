{
 "cells": [
  {
   "cell_type": "code",
   "execution_count": 1,
   "id": "43214494",
   "metadata": {},
   "outputs": [],
   "source": [
    "import numpy as np\n",
    "import pandas as pd\n",
    "import matplotlib.pyplot as plt\n",
    "import seaborn as sns\n",
    "\n",
    "from sklearn.model_selection import train_test_split\n",
    "from sklearn.preprocessing import LabelEncoder\n",
    "from sklearn.preprocessing import OneHotEncoder\n",
    "from sklearn.pipeline import Pipeline\n",
    "from sklearn.preprocessing import StandardScaler\n",
    "\n",
    "from sklearn.linear_model import LogisticRegression\n",
    "from sklearn.ensemble import RandomForestClassifier, GradientBoostingClassifier\n",
    "from sklearn.neighbors import KNeighborsClassifier\n",
    "from sklearn.svm import SVC\n",
    "\n",
    "from sklearn.metrics import accuracy_score, classification_report\n",
    "\n",
    "import joblib\n",
    "import pickle\n"
   ]
  },
  {
   "cell_type": "code",
   "execution_count": 2,
   "id": "5485871a",
   "metadata": {},
   "outputs": [
    {
     "data": {
      "application/vnd.microsoft.datawrangler.viewer.v0+json": {
       "columns": [
        {
         "name": "index",
         "rawType": "int64",
         "type": "integer"
        },
        {
         "name": "age",
         "rawType": "int64",
         "type": "integer"
        },
        {
         "name": "workclass",
         "rawType": "object",
         "type": "string"
        },
        {
         "name": "fnlwgt",
         "rawType": "int64",
         "type": "integer"
        },
        {
         "name": "education",
         "rawType": "object",
         "type": "string"
        },
        {
         "name": "educational-num",
         "rawType": "int64",
         "type": "integer"
        },
        {
         "name": "marital-status",
         "rawType": "object",
         "type": "string"
        },
        {
         "name": "occupation",
         "rawType": "object",
         "type": "string"
        },
        {
         "name": "relationship",
         "rawType": "object",
         "type": "string"
        },
        {
         "name": "race",
         "rawType": "object",
         "type": "string"
        },
        {
         "name": "gender",
         "rawType": "object",
         "type": "string"
        },
        {
         "name": "capital-gain",
         "rawType": "int64",
         "type": "integer"
        },
        {
         "name": "capital-loss",
         "rawType": "int64",
         "type": "integer"
        },
        {
         "name": "hours-per-week",
         "rawType": "int64",
         "type": "integer"
        },
        {
         "name": "native-country",
         "rawType": "object",
         "type": "string"
        },
        {
         "name": "income",
         "rawType": "object",
         "type": "string"
        }
       ],
       "ref": "3be4d2d5-eae9-4f8a-81b9-f52201c9bac5",
       "rows": [
        [
         "0",
         "25",
         "Private",
         "226802",
         "11th",
         "7",
         "Never-married",
         "Machine-op-inspct",
         "Own-child",
         "Black",
         "Male",
         "0",
         "0",
         "40",
         "United-States",
         "<=50K"
        ],
        [
         "1",
         "38",
         "Private",
         "89814",
         "HS-grad",
         "9",
         "Married-civ-spouse",
         "Farming-fishing",
         "Husband",
         "White",
         "Male",
         "0",
         "0",
         "50",
         "United-States",
         "<=50K"
        ],
        [
         "2",
         "28",
         "Local-gov",
         "336951",
         "Assoc-acdm",
         "12",
         "Married-civ-spouse",
         "Protective-serv",
         "Husband",
         "White",
         "Male",
         "0",
         "0",
         "40",
         "United-States",
         ">50K"
        ],
        [
         "3",
         "44",
         "Private",
         "160323",
         "Some-college",
         "10",
         "Married-civ-spouse",
         "Machine-op-inspct",
         "Husband",
         "Black",
         "Male",
         "7688",
         "0",
         "40",
         "United-States",
         ">50K"
        ],
        [
         "4",
         "18",
         "?",
         "103497",
         "Some-college",
         "10",
         "Never-married",
         "?",
         "Own-child",
         "White",
         "Female",
         "0",
         "0",
         "30",
         "United-States",
         "<=50K"
        ]
       ],
       "shape": {
        "columns": 15,
        "rows": 5
       }
      },
      "text/html": [
       "<div>\n",
       "<style scoped>\n",
       "    .dataframe tbody tr th:only-of-type {\n",
       "        vertical-align: middle;\n",
       "    }\n",
       "\n",
       "    .dataframe tbody tr th {\n",
       "        vertical-align: top;\n",
       "    }\n",
       "\n",
       "    .dataframe thead th {\n",
       "        text-align: right;\n",
       "    }\n",
       "</style>\n",
       "<table border=\"1\" class=\"dataframe\">\n",
       "  <thead>\n",
       "    <tr style=\"text-align: right;\">\n",
       "      <th></th>\n",
       "      <th>age</th>\n",
       "      <th>workclass</th>\n",
       "      <th>fnlwgt</th>\n",
       "      <th>education</th>\n",
       "      <th>educational-num</th>\n",
       "      <th>marital-status</th>\n",
       "      <th>occupation</th>\n",
       "      <th>relationship</th>\n",
       "      <th>race</th>\n",
       "      <th>gender</th>\n",
       "      <th>capital-gain</th>\n",
       "      <th>capital-loss</th>\n",
       "      <th>hours-per-week</th>\n",
       "      <th>native-country</th>\n",
       "      <th>income</th>\n",
       "    </tr>\n",
       "  </thead>\n",
       "  <tbody>\n",
       "    <tr>\n",
       "      <th>0</th>\n",
       "      <td>25</td>\n",
       "      <td>Private</td>\n",
       "      <td>226802</td>\n",
       "      <td>11th</td>\n",
       "      <td>7</td>\n",
       "      <td>Never-married</td>\n",
       "      <td>Machine-op-inspct</td>\n",
       "      <td>Own-child</td>\n",
       "      <td>Black</td>\n",
       "      <td>Male</td>\n",
       "      <td>0</td>\n",
       "      <td>0</td>\n",
       "      <td>40</td>\n",
       "      <td>United-States</td>\n",
       "      <td>&lt;=50K</td>\n",
       "    </tr>\n",
       "    <tr>\n",
       "      <th>1</th>\n",
       "      <td>38</td>\n",
       "      <td>Private</td>\n",
       "      <td>89814</td>\n",
       "      <td>HS-grad</td>\n",
       "      <td>9</td>\n",
       "      <td>Married-civ-spouse</td>\n",
       "      <td>Farming-fishing</td>\n",
       "      <td>Husband</td>\n",
       "      <td>White</td>\n",
       "      <td>Male</td>\n",
       "      <td>0</td>\n",
       "      <td>0</td>\n",
       "      <td>50</td>\n",
       "      <td>United-States</td>\n",
       "      <td>&lt;=50K</td>\n",
       "    </tr>\n",
       "    <tr>\n",
       "      <th>2</th>\n",
       "      <td>28</td>\n",
       "      <td>Local-gov</td>\n",
       "      <td>336951</td>\n",
       "      <td>Assoc-acdm</td>\n",
       "      <td>12</td>\n",
       "      <td>Married-civ-spouse</td>\n",
       "      <td>Protective-serv</td>\n",
       "      <td>Husband</td>\n",
       "      <td>White</td>\n",
       "      <td>Male</td>\n",
       "      <td>0</td>\n",
       "      <td>0</td>\n",
       "      <td>40</td>\n",
       "      <td>United-States</td>\n",
       "      <td>&gt;50K</td>\n",
       "    </tr>\n",
       "    <tr>\n",
       "      <th>3</th>\n",
       "      <td>44</td>\n",
       "      <td>Private</td>\n",
       "      <td>160323</td>\n",
       "      <td>Some-college</td>\n",
       "      <td>10</td>\n",
       "      <td>Married-civ-spouse</td>\n",
       "      <td>Machine-op-inspct</td>\n",
       "      <td>Husband</td>\n",
       "      <td>Black</td>\n",
       "      <td>Male</td>\n",
       "      <td>7688</td>\n",
       "      <td>0</td>\n",
       "      <td>40</td>\n",
       "      <td>United-States</td>\n",
       "      <td>&gt;50K</td>\n",
       "    </tr>\n",
       "    <tr>\n",
       "      <th>4</th>\n",
       "      <td>18</td>\n",
       "      <td>?</td>\n",
       "      <td>103497</td>\n",
       "      <td>Some-college</td>\n",
       "      <td>10</td>\n",
       "      <td>Never-married</td>\n",
       "      <td>?</td>\n",
       "      <td>Own-child</td>\n",
       "      <td>White</td>\n",
       "      <td>Female</td>\n",
       "      <td>0</td>\n",
       "      <td>0</td>\n",
       "      <td>30</td>\n",
       "      <td>United-States</td>\n",
       "      <td>&lt;=50K</td>\n",
       "    </tr>\n",
       "  </tbody>\n",
       "</table>\n",
       "</div>"
      ],
      "text/plain": [
       "   age  workclass  fnlwgt     education  educational-num      marital-status  \\\n",
       "0   25    Private  226802          11th                7       Never-married   \n",
       "1   38    Private   89814       HS-grad                9  Married-civ-spouse   \n",
       "2   28  Local-gov  336951    Assoc-acdm               12  Married-civ-spouse   \n",
       "3   44    Private  160323  Some-college               10  Married-civ-spouse   \n",
       "4   18          ?  103497  Some-college               10       Never-married   \n",
       "\n",
       "          occupation relationship   race  gender  capital-gain  capital-loss  \\\n",
       "0  Machine-op-inspct    Own-child  Black    Male             0             0   \n",
       "1    Farming-fishing      Husband  White    Male             0             0   \n",
       "2    Protective-serv      Husband  White    Male             0             0   \n",
       "3  Machine-op-inspct      Husband  Black    Male          7688             0   \n",
       "4                  ?    Own-child  White  Female             0             0   \n",
       "\n",
       "   hours-per-week native-country income  \n",
       "0              40  United-States  <=50K  \n",
       "1              50  United-States  <=50K  \n",
       "2              40  United-States   >50K  \n",
       "3              40  United-States   >50K  \n",
       "4              30  United-States  <=50K  "
      ]
     },
     "execution_count": 2,
     "metadata": {},
     "output_type": "execute_result"
    }
   ],
   "source": [
    "data = pd.read_csv('adult.csv')\n",
    "data.head()"
   ]
  },
  {
   "cell_type": "code",
   "execution_count": 3,
   "id": "ab02566d",
   "metadata": {},
   "outputs": [
    {
     "data": {
      "text/plain": [
       "(48842, 15)"
      ]
     },
     "execution_count": 3,
     "metadata": {},
     "output_type": "execute_result"
    }
   ],
   "source": [
    "data.shape"
   ]
  },
  {
   "cell_type": "code",
   "execution_count": 4,
   "id": "8b47de94",
   "metadata": {},
   "outputs": [
    {
     "data": {
      "application/vnd.microsoft.datawrangler.viewer.v0+json": {
       "columns": [
        {
         "name": "index",
         "rawType": "object",
         "type": "string"
        },
        {
         "name": "0",
         "rawType": "int64",
         "type": "integer"
        }
       ],
       "ref": "ce2f0fff-819b-41ae-a82f-f531d82b3580",
       "rows": [
        [
         "age",
         "0"
        ],
        [
         "workclass",
         "0"
        ],
        [
         "fnlwgt",
         "0"
        ],
        [
         "education",
         "0"
        ],
        [
         "educational-num",
         "0"
        ],
        [
         "marital-status",
         "0"
        ],
        [
         "occupation",
         "0"
        ],
        [
         "relationship",
         "0"
        ],
        [
         "race",
         "0"
        ],
        [
         "gender",
         "0"
        ],
        [
         "capital-gain",
         "0"
        ],
        [
         "capital-loss",
         "0"
        ],
        [
         "hours-per-week",
         "0"
        ],
        [
         "native-country",
         "0"
        ],
        [
         "income",
         "0"
        ]
       ],
       "shape": {
        "columns": 1,
        "rows": 15
       }
      },
      "text/plain": [
       "age                0\n",
       "workclass          0\n",
       "fnlwgt             0\n",
       "education          0\n",
       "educational-num    0\n",
       "marital-status     0\n",
       "occupation         0\n",
       "relationship       0\n",
       "race               0\n",
       "gender             0\n",
       "capital-gain       0\n",
       "capital-loss       0\n",
       "hours-per-week     0\n",
       "native-country     0\n",
       "income             0\n",
       "dtype: int64"
      ]
     },
     "execution_count": 4,
     "metadata": {},
     "output_type": "execute_result"
    }
   ],
   "source": [
    "data.isna().sum()"
   ]
  },
  {
   "cell_type": "code",
   "execution_count": 5,
   "id": "3edc7382",
   "metadata": {},
   "outputs": [
    {
     "data": {
      "application/vnd.microsoft.datawrangler.viewer.v0+json": {
       "columns": [
        {
         "name": "workclass",
         "rawType": "object",
         "type": "string"
        },
        {
         "name": "count",
         "rawType": "int64",
         "type": "integer"
        }
       ],
       "ref": "3be04e0d-4281-4ef9-918d-d4be47c32415",
       "rows": [
        [
         "Private",
         "33906"
        ],
        [
         "Self-emp-not-inc",
         "3862"
        ],
        [
         "Local-gov",
         "3136"
        ],
        [
         "?",
         "2799"
        ],
        [
         "State-gov",
         "1981"
        ],
        [
         "Self-emp-inc",
         "1695"
        ],
        [
         "Federal-gov",
         "1432"
        ],
        [
         "Without-pay",
         "21"
        ],
        [
         "Never-worked",
         "10"
        ]
       ],
       "shape": {
        "columns": 1,
        "rows": 9
       }
      },
      "text/plain": [
       "workclass\n",
       "Private             33906\n",
       "Self-emp-not-inc     3862\n",
       "Local-gov            3136\n",
       "?                    2799\n",
       "State-gov            1981\n",
       "Self-emp-inc         1695\n",
       "Federal-gov          1432\n",
       "Without-pay            21\n",
       "Never-worked           10\n",
       "Name: count, dtype: int64"
      ]
     },
     "execution_count": 5,
     "metadata": {},
     "output_type": "execute_result"
    }
   ],
   "source": [
    "data.workclass.value_counts()"
   ]
  },
  {
   "cell_type": "code",
   "execution_count": 6,
   "id": "0f33c94d",
   "metadata": {},
   "outputs": [
    {
     "name": "stderr",
     "output_type": "stream",
     "text": [
      "C:\\Users\\RUPAM MONDAL\\AppData\\Local\\Temp\\ipykernel_4912\\3423645516.py:1: FutureWarning: A value is trying to be set on a copy of a DataFrame or Series through chained assignment using an inplace method.\n",
      "The behavior will change in pandas 3.0. This inplace method will never work because the intermediate object on which we are setting values always behaves as a copy.\n",
      "\n",
      "For example, when doing 'df[col].method(value, inplace=True)', try using 'df.method({col: value}, inplace=True)' or df[col] = df[col].method(value) instead, to perform the operation inplace on the original object.\n",
      "\n",
      "\n",
      "  data.workclass.replace({'?':'Others'},inplace=True)\n"
     ]
    },
    {
     "data": {
      "application/vnd.microsoft.datawrangler.viewer.v0+json": {
       "columns": [
        {
         "name": "workclass",
         "rawType": "object",
         "type": "string"
        },
        {
         "name": "count",
         "rawType": "int64",
         "type": "integer"
        }
       ],
       "ref": "e4b8a858-c9bc-43a4-bb2e-708b68c60fea",
       "rows": [
        [
         "Private",
         "33906"
        ],
        [
         "Self-emp-not-inc",
         "3862"
        ],
        [
         "Local-gov",
         "3136"
        ],
        [
         "Others",
         "2799"
        ],
        [
         "State-gov",
         "1981"
        ],
        [
         "Self-emp-inc",
         "1695"
        ],
        [
         "Federal-gov",
         "1432"
        ],
        [
         "Without-pay",
         "21"
        ],
        [
         "Never-worked",
         "10"
        ]
       ],
       "shape": {
        "columns": 1,
        "rows": 9
       }
      },
      "text/plain": [
       "workclass\n",
       "Private             33906\n",
       "Self-emp-not-inc     3862\n",
       "Local-gov            3136\n",
       "Others               2799\n",
       "State-gov            1981\n",
       "Self-emp-inc         1695\n",
       "Federal-gov          1432\n",
       "Without-pay            21\n",
       "Never-worked           10\n",
       "Name: count, dtype: int64"
      ]
     },
     "execution_count": 6,
     "metadata": {},
     "output_type": "execute_result"
    }
   ],
   "source": [
    "data.workclass.replace({'?':'Others'},inplace=True)\n",
    "data['workclass'].value_counts()"
   ]
  },
  {
   "cell_type": "code",
   "execution_count": 7,
   "id": "8e444c15",
   "metadata": {},
   "outputs": [
    {
     "data": {
      "application/vnd.microsoft.datawrangler.viewer.v0+json": {
       "columns": [
        {
         "name": "occupation",
         "rawType": "object",
         "type": "string"
        },
        {
         "name": "count",
         "rawType": "int64",
         "type": "integer"
        }
       ],
       "ref": "69ed674e-5296-4ebc-a831-7b469e42c0eb",
       "rows": [
        [
         "Prof-specialty",
         "6172"
        ],
        [
         "Craft-repair",
         "6112"
        ],
        [
         "Exec-managerial",
         "6086"
        ],
        [
         "Adm-clerical",
         "5611"
        ],
        [
         "Sales",
         "5504"
        ],
        [
         "Other-service",
         "4923"
        ],
        [
         "Machine-op-inspct",
         "3022"
        ],
        [
         "?",
         "2809"
        ],
        [
         "Transport-moving",
         "2355"
        ],
        [
         "Handlers-cleaners",
         "2072"
        ],
        [
         "Farming-fishing",
         "1490"
        ],
        [
         "Tech-support",
         "1446"
        ],
        [
         "Protective-serv",
         "983"
        ],
        [
         "Priv-house-serv",
         "242"
        ],
        [
         "Armed-Forces",
         "15"
        ]
       ],
       "shape": {
        "columns": 1,
        "rows": 15
       }
      },
      "text/plain": [
       "occupation\n",
       "Prof-specialty       6172\n",
       "Craft-repair         6112\n",
       "Exec-managerial      6086\n",
       "Adm-clerical         5611\n",
       "Sales                5504\n",
       "Other-service        4923\n",
       "Machine-op-inspct    3022\n",
       "?                    2809\n",
       "Transport-moving     2355\n",
       "Handlers-cleaners    2072\n",
       "Farming-fishing      1490\n",
       "Tech-support         1446\n",
       "Protective-serv       983\n",
       "Priv-house-serv       242\n",
       "Armed-Forces           15\n",
       "Name: count, dtype: int64"
      ]
     },
     "execution_count": 7,
     "metadata": {},
     "output_type": "execute_result"
    }
   ],
   "source": [
    "data['occupation'].value_counts()"
   ]
  },
  {
   "cell_type": "code",
   "execution_count": 8,
   "id": "f03c403b",
   "metadata": {},
   "outputs": [
    {
     "name": "stderr",
     "output_type": "stream",
     "text": [
      "C:\\Users\\RUPAM MONDAL\\AppData\\Local\\Temp\\ipykernel_4912\\1451463520.py:1: FutureWarning: A value is trying to be set on a copy of a DataFrame or Series through chained assignment using an inplace method.\n",
      "The behavior will change in pandas 3.0. This inplace method will never work because the intermediate object on which we are setting values always behaves as a copy.\n",
      "\n",
      "For example, when doing 'df[col].method(value, inplace=True)', try using 'df.method({col: value}, inplace=True)' or df[col] = df[col].method(value) instead, to perform the operation inplace on the original object.\n",
      "\n",
      "\n",
      "  data.occupation.replace({'?':'Others'},inplace=True)\n"
     ]
    },
    {
     "data": {
      "application/vnd.microsoft.datawrangler.viewer.v0+json": {
       "columns": [
        {
         "name": "occupation",
         "rawType": "object",
         "type": "string"
        },
        {
         "name": "count",
         "rawType": "int64",
         "type": "integer"
        }
       ],
       "ref": "caf608a2-82e6-48a5-b4aa-b0d3920f542b",
       "rows": [
        [
         "Prof-specialty",
         "6172"
        ],
        [
         "Craft-repair",
         "6112"
        ],
        [
         "Exec-managerial",
         "6086"
        ],
        [
         "Adm-clerical",
         "5611"
        ],
        [
         "Sales",
         "5504"
        ],
        [
         "Other-service",
         "4923"
        ],
        [
         "Machine-op-inspct",
         "3022"
        ],
        [
         "Others",
         "2809"
        ],
        [
         "Transport-moving",
         "2355"
        ],
        [
         "Handlers-cleaners",
         "2072"
        ],
        [
         "Farming-fishing",
         "1490"
        ],
        [
         "Tech-support",
         "1446"
        ],
        [
         "Protective-serv",
         "983"
        ],
        [
         "Priv-house-serv",
         "242"
        ],
        [
         "Armed-Forces",
         "15"
        ]
       ],
       "shape": {
        "columns": 1,
        "rows": 15
       }
      },
      "text/plain": [
       "occupation\n",
       "Prof-specialty       6172\n",
       "Craft-repair         6112\n",
       "Exec-managerial      6086\n",
       "Adm-clerical         5611\n",
       "Sales                5504\n",
       "Other-service        4923\n",
       "Machine-op-inspct    3022\n",
       "Others               2809\n",
       "Transport-moving     2355\n",
       "Handlers-cleaners    2072\n",
       "Farming-fishing      1490\n",
       "Tech-support         1446\n",
       "Protective-serv       983\n",
       "Priv-house-serv       242\n",
       "Armed-Forces           15\n",
       "Name: count, dtype: int64"
      ]
     },
     "execution_count": 8,
     "metadata": {},
     "output_type": "execute_result"
    }
   ],
   "source": [
    "data.occupation.replace({'?':'Others'},inplace=True)\n",
    "data['occupation'].value_counts()"
   ]
  },
  {
   "cell_type": "code",
   "execution_count": 9,
   "id": "6b7433ba",
   "metadata": {},
   "outputs": [
    {
     "name": "stderr",
     "output_type": "stream",
     "text": [
      "C:\\Users\\RUPAM MONDAL\\AppData\\Local\\Temp\\ipykernel_4912\\3752757567.py:1: FutureWarning: A value is trying to be set on a copy of a DataFrame or Series through chained assignment using an inplace method.\n",
      "The behavior will change in pandas 3.0. This inplace method will never work because the intermediate object on which we are setting values always behaves as a copy.\n",
      "\n",
      "For example, when doing 'df[col].method(value, inplace=True)', try using 'df.method({col: value}, inplace=True)' or df[col] = df[col].method(value) instead, to perform the operation inplace on the original object.\n",
      "\n",
      "\n",
      "  data['native-country'].replace({'?':'Others'},inplace=True)\n"
     ]
    },
    {
     "data": {
      "application/vnd.microsoft.datawrangler.viewer.v0+json": {
       "columns": [
        {
         "name": "native-country",
         "rawType": "object",
         "type": "string"
        },
        {
         "name": "count",
         "rawType": "int64",
         "type": "integer"
        }
       ],
       "ref": "a43b1d53-443e-4e2b-931b-c047acadf7b4",
       "rows": [
        [
         "United-States",
         "43832"
        ],
        [
         "Mexico",
         "951"
        ],
        [
         "Others",
         "857"
        ],
        [
         "Philippines",
         "295"
        ],
        [
         "Germany",
         "206"
        ],
        [
         "Puerto-Rico",
         "184"
        ],
        [
         "Canada",
         "182"
        ],
        [
         "El-Salvador",
         "155"
        ],
        [
         "India",
         "151"
        ],
        [
         "Cuba",
         "138"
        ],
        [
         "England",
         "127"
        ],
        [
         "China",
         "122"
        ],
        [
         "South",
         "115"
        ],
        [
         "Jamaica",
         "106"
        ],
        [
         "Italy",
         "105"
        ],
        [
         "Dominican-Republic",
         "103"
        ],
        [
         "Japan",
         "92"
        ],
        [
         "Guatemala",
         "88"
        ],
        [
         "Poland",
         "87"
        ],
        [
         "Vietnam",
         "86"
        ],
        [
         "Columbia",
         "85"
        ],
        [
         "Haiti",
         "75"
        ],
        [
         "Portugal",
         "67"
        ],
        [
         "Taiwan",
         "65"
        ],
        [
         "Iran",
         "59"
        ],
        [
         "Nicaragua",
         "49"
        ],
        [
         "Greece",
         "49"
        ],
        [
         "Peru",
         "46"
        ],
        [
         "Ecuador",
         "45"
        ],
        [
         "France",
         "38"
        ],
        [
         "Ireland",
         "37"
        ],
        [
         "Thailand",
         "30"
        ],
        [
         "Hong",
         "30"
        ],
        [
         "Cambodia",
         "28"
        ],
        [
         "Trinadad&Tobago",
         "27"
        ],
        [
         "Laos",
         "23"
        ],
        [
         "Outlying-US(Guam-USVI-etc)",
         "23"
        ],
        [
         "Yugoslavia",
         "23"
        ],
        [
         "Scotland",
         "21"
        ],
        [
         "Honduras",
         "20"
        ],
        [
         "Hungary",
         "19"
        ],
        [
         "Holand-Netherlands",
         "1"
        ]
       ],
       "shape": {
        "columns": 1,
        "rows": 42
       }
      },
      "text/plain": [
       "native-country\n",
       "United-States                 43832\n",
       "Mexico                          951\n",
       "Others                          857\n",
       "Philippines                     295\n",
       "Germany                         206\n",
       "Puerto-Rico                     184\n",
       "Canada                          182\n",
       "El-Salvador                     155\n",
       "India                           151\n",
       "Cuba                            138\n",
       "England                         127\n",
       "China                           122\n",
       "South                           115\n",
       "Jamaica                         106\n",
       "Italy                           105\n",
       "Dominican-Republic              103\n",
       "Japan                            92\n",
       "Guatemala                        88\n",
       "Poland                           87\n",
       "Vietnam                          86\n",
       "Columbia                         85\n",
       "Haiti                            75\n",
       "Portugal                         67\n",
       "Taiwan                           65\n",
       "Iran                             59\n",
       "Nicaragua                        49\n",
       "Greece                           49\n",
       "Peru                             46\n",
       "Ecuador                          45\n",
       "France                           38\n",
       "Ireland                          37\n",
       "Thailand                         30\n",
       "Hong                             30\n",
       "Cambodia                         28\n",
       "Trinadad&Tobago                  27\n",
       "Laos                             23\n",
       "Outlying-US(Guam-USVI-etc)       23\n",
       "Yugoslavia                       23\n",
       "Scotland                         21\n",
       "Honduras                         20\n",
       "Hungary                          19\n",
       "Holand-Netherlands                1\n",
       "Name: count, dtype: int64"
      ]
     },
     "execution_count": 9,
     "metadata": {},
     "output_type": "execute_result"
    }
   ],
   "source": [
    "data['native-country'].replace({'?':'Others'},inplace=True)\n",
    "data['native-country'].value_counts()"
   ]
  },
  {
   "cell_type": "code",
   "execution_count": 10,
   "id": "0d64552e",
   "metadata": {},
   "outputs": [
    {
     "data": {
      "application/vnd.microsoft.datawrangler.viewer.v0+json": {
       "columns": [
        {
         "name": "workclass",
         "rawType": "object",
         "type": "string"
        },
        {
         "name": "count",
         "rawType": "int64",
         "type": "integer"
        }
       ],
       "ref": "6cb0a9b8-2f4a-4e9b-a391-73eea62b7217",
       "rows": [
        [
         "Private",
         "33906"
        ],
        [
         "Self-emp-not-inc",
         "3862"
        ],
        [
         "Local-gov",
         "3136"
        ],
        [
         "Others",
         "2799"
        ],
        [
         "State-gov",
         "1981"
        ],
        [
         "Self-emp-inc",
         "1695"
        ],
        [
         "Federal-gov",
         "1432"
        ]
       ],
       "shape": {
        "columns": 1,
        "rows": 7
       }
      },
      "text/plain": [
       "workclass\n",
       "Private             33906\n",
       "Self-emp-not-inc     3862\n",
       "Local-gov            3136\n",
       "Others               2799\n",
       "State-gov            1981\n",
       "Self-emp-inc         1695\n",
       "Federal-gov          1432\n",
       "Name: count, dtype: int64"
      ]
     },
     "execution_count": 10,
     "metadata": {},
     "output_type": "execute_result"
    }
   ],
   "source": [
    "data=data[data['workclass']!='Without-pay']\n",
    "data=data[data['workclass']!='Never-worked']\n",
    "data['workclass'].value_counts()"
   ]
  },
  {
   "cell_type": "code",
   "execution_count": 11,
   "id": "7c8c3ae9",
   "metadata": {},
   "outputs": [
    {
     "data": {
      "application/vnd.microsoft.datawrangler.viewer.v0+json": {
       "columns": [
        {
         "name": "relationship",
         "rawType": "object",
         "type": "string"
        },
        {
         "name": "count",
         "rawType": "int64",
         "type": "integer"
        }
       ],
       "ref": "8b035580-a3ca-45e9-b6ed-3b4a2e883737",
       "rows": [
        [
         "Husband",
         "19708"
        ],
        [
         "Not-in-family",
         "12582"
        ],
        [
         "Own-child",
         "7566"
        ],
        [
         "Unmarried",
         "5123"
        ],
        [
         "Wife",
         "2327"
        ],
        [
         "Other-relative",
         "1505"
        ]
       ],
       "shape": {
        "columns": 1,
        "rows": 6
       }
      },
      "text/plain": [
       "relationship\n",
       "Husband           19708\n",
       "Not-in-family     12582\n",
       "Own-child          7566\n",
       "Unmarried          5123\n",
       "Wife               2327\n",
       "Other-relative     1505\n",
       "Name: count, dtype: int64"
      ]
     },
     "execution_count": 11,
     "metadata": {},
     "output_type": "execute_result"
    }
   ],
   "source": [
    "data.relationship.value_counts()"
   ]
  },
  {
   "cell_type": "code",
   "execution_count": 12,
   "id": "a112f496",
   "metadata": {},
   "outputs": [
    {
     "data": {
      "application/vnd.microsoft.datawrangler.viewer.v0+json": {
       "columns": [
        {
         "name": "gender",
         "rawType": "object",
         "type": "string"
        },
        {
         "name": "count",
         "rawType": "int64",
         "type": "integer"
        }
       ],
       "ref": "4c4067e6-1958-4e30-ae1f-d1b926f2459d",
       "rows": [
        [
         "Male",
         "32629"
        ],
        [
         "Female",
         "16182"
        ]
       ],
       "shape": {
        "columns": 1,
        "rows": 2
       }
      },
      "text/plain": [
       "gender\n",
       "Male      32629\n",
       "Female    16182\n",
       "Name: count, dtype: int64"
      ]
     },
     "execution_count": 12,
     "metadata": {},
     "output_type": "execute_result"
    }
   ],
   "source": [
    "data.gender.value_counts()"
   ]
  },
  {
   "cell_type": "code",
   "execution_count": 13,
   "id": "82db85f6",
   "metadata": {},
   "outputs": [
    {
     "data": {
      "text/plain": [
       "(48811, 15)"
      ]
     },
     "execution_count": 13,
     "metadata": {},
     "output_type": "execute_result"
    }
   ],
   "source": [
    "data.shape"
   ]
  },
  {
   "cell_type": "code",
   "execution_count": 14,
   "id": "40a9b88f",
   "metadata": {},
   "outputs": [
    {
     "data": {
      "image/png": "[encoded data removed]",
      "text/plain": [
       "<Figure size 640x480 with 1 Axes>"
      ]
     },
     "metadata": {},
     "output_type": "display_data"
    }
   ],
   "source": [
    "plt.boxplot(data['age'])\n",
    "plt.show()"
   ]
  },
  {
   "cell_type": "code",
   "execution_count": 15,
   "id": "ff12c160",
   "metadata": {},
   "outputs": [],
   "source": [
    "data=data[(data['age']<=75)&(data['age']>=17)]"
   ]
  },
  {
   "cell_type": "code",
   "execution_count": 16,
   "id": "c6b7be97",
   "metadata": {},
   "outputs": [
    {
     "data": {
      "image/png": "[encoded data removed]",
      "text/plain": [
       "<Figure size 640x480 with 1 Axes>"
      ]
     },
     "metadata": {},
     "output_type": "display_data"
    }
   ],
   "source": [
    "plt.boxplot(data['age'])\n",
    "plt.show()"
   ]
  },
  {
   "cell_type": "code",
   "execution_count": 17,
   "id": "4731ebcf",
   "metadata": {},
   "outputs": [
    {
     "data": {
      "text/plain": [
       "(48438, 15)"
      ]
     },
     "execution_count": 17,
     "metadata": {},
     "output_type": "execute_result"
    }
   ],
   "source": [
    "data.shape"
   ]
  },
  {
   "cell_type": "code",
   "execution_count": 18,
   "id": "6c993348",
   "metadata": {},
   "outputs": [
    {
     "data": {
      "image/png": "[encoded data removed]",
      "text/plain": [
       "<Figure size 640x480 with 1 Axes>"
      ]
     },
     "metadata": {},
     "output_type": "display_data"
    }
   ],
   "source": [
    "plt.boxplot(data['capital-gain'])\n",
    "plt.show()"
   ]
  },
  {
   "cell_type": "code",
   "execution_count": 19,
   "id": "27111636",
   "metadata": {},
   "outputs": [
    {
     "data": {
      "image/png": "[encoded data removed]",
      "text/plain": [
       "<Figure size 640x480 with 1 Axes>"
      ]
     },
     "metadata": {},
     "output_type": "display_data"
    }
   ],
   "source": [
    "plt.boxplot(data['educational-num'])\n",
    "plt.show()"
   ]
  },
  {
   "cell_type": "code",
   "execution_count": 20,
   "id": "875f2e42",
   "metadata": {},
   "outputs": [],
   "source": [
    "data=data[(data['educational-num']<=16)&(data['educational-num']>=5)]"
   ]
  },
  {
   "cell_type": "code",
   "execution_count": 21,
   "id": "c8539c61",
   "metadata": {},
   "outputs": [
    {
     "data": {
      "image/png": "[encoded data removed]",
      "text/plain": [
       "<Figure size 640x480 with 1 Axes>"
      ]
     },
     "metadata": {},
     "output_type": "display_data"
    }
   ],
   "source": [
    "plt.boxplot(data['educational-num'])\n",
    "plt.show()"
   ]
  },
  {
   "cell_type": "code",
   "execution_count": 22,
   "id": "7f6db6db",
   "metadata": {},
   "outputs": [
    {
     "data": {
      "image/png": "[encoded data removed]",
      "text/plain": [
       "<Figure size 640x480 with 1 Axes>"
      ]
     },
     "metadata": {},
     "output_type": "display_data"
    }
   ],
   "source": [
    "plt.boxplot(data['hours-per-week'])\n",
    "plt.show()"
   ]
  },
  {
   "cell_type": "code",
   "execution_count": 23,
   "id": "84da353c",
   "metadata": {},
   "outputs": [],
   "source": [
    "data=data.drop(columns=['education']) #redundant features removal"
   ]
  },
  {
   "cell_type": "code",
   "execution_count": 24,
   "id": "d50548e7",
   "metadata": {},
   "outputs": [],
   "source": [
    "label_encoders = {}\n",
    "categorical_cols = ['workclass', 'marital-status', 'occupation', 'relationship', 'race', 'gender', 'native-country']\n",
    "\n",
    "for col in categorical_cols:\n",
    "    le = LabelEncoder()\n",
    "    data[col] = le.fit_transform(data[col])\n",
    "    label_encoders[col] = le\n",
    "\n",
    "# Save encoders\n",
    "with open('label_encoders.pkl', 'wb') as f:\n",
    "    pickle.dump(label_encoders, f)"
   ]
  },
  {
   "cell_type": "code",
   "execution_count": 25,
   "id": "64ed8733",
   "metadata": {},
   "outputs": [
    {
     "data": {
      "application/vnd.microsoft.datawrangler.viewer.v0+json": {
       "columns": [
        {
         "name": "index",
         "rawType": "int64",
         "type": "integer"
        },
        {
         "name": "age",
         "rawType": "int64",
         "type": "integer"
        },
        {
         "name": "workclass",
         "rawType": "int64",
         "type": "integer"
        },
        {
         "name": "fnlwgt",
         "rawType": "int64",
         "type": "integer"
        },
        {
         "name": "educational-num",
         "rawType": "int64",
         "type": "integer"
        },
        {
         "name": "marital-status",
         "rawType": "int64",
         "type": "integer"
        },
        {
         "name": "occupation",
         "rawType": "int64",
         "type": "integer"
        },
        {
         "name": "relationship",
         "rawType": "int64",
         "type": "integer"
        },
        {
         "name": "race",
         "rawType": "int64",
         "type": "integer"
        },
        {
         "name": "gender",
         "rawType": "int64",
         "type": "integer"
        },
        {
         "name": "capital-gain",
         "rawType": "int64",
         "type": "integer"
        },
        {
         "name": "capital-loss",
         "rawType": "int64",
         "type": "integer"
        },
        {
         "name": "hours-per-week",
         "rawType": "int64",
         "type": "integer"
        },
        {
         "name": "native-country",
         "rawType": "int64",
         "type": "integer"
        },
        {
         "name": "income",
         "rawType": "object",
         "type": "string"
        }
       ],
       "ref": "1bd813b9-3de3-496c-a1c1-1123b2d08973",
       "rows": [
        [
         "0",
         "25",
         "3",
         "226802",
         "7",
         "4",
         "6",
         "3",
         "2",
         "1",
         "0",
         "0",
         "40",
         "39",
         "<=50K"
        ],
        [
         "1",
         "38",
         "3",
         "89814",
         "9",
         "2",
         "4",
         "0",
         "4",
         "1",
         "0",
         "0",
         "50",
         "39",
         "<=50K"
        ],
        [
         "2",
         "28",
         "1",
         "336951",
         "12",
         "2",
         "11",
         "0",
         "4",
         "1",
         "0",
         "0",
         "40",
         "39",
         ">50K"
        ],
        [
         "3",
         "44",
         "3",
         "160323",
         "10",
         "2",
         "6",
         "0",
         "2",
         "1",
         "7688",
         "0",
         "40",
         "39",
         ">50K"
        ],
        [
         "4",
         "18",
         "2",
         "103497",
         "10",
         "4",
         "8",
         "3",
         "4",
         "0",
         "0",
         "0",
         "30",
         "39",
         "<=50K"
        ]
       ],
       "shape": {
        "columns": 14,
        "rows": 5
       }
      },
      "text/html": [
       "<div>\n",
       "<style scoped>\n",
       "    .dataframe tbody tr th:only-of-type {\n",
       "        vertical-align: middle;\n",
       "    }\n",
       "\n",
       "    .dataframe tbody tr th {\n",
       "        vertical-align: top;\n",
       "    }\n",
       "\n",
       "    .dataframe thead th {\n",
       "        text-align: right;\n",
       "    }\n",
       "</style>\n",
       "<table border=\"1\" class=\"dataframe\">\n",
       "  <thead>\n",
       "    <tr style=\"text-align: right;\">\n",
       "      <th></th>\n",
       "      <th>age</th>\n",
       "      <th>workclass</th>\n",
       "      <th>fnlwgt</th>\n",
       "      <th>educational-num</th>\n",
       "      <th>marital-status</th>\n",
       "      <th>occupation</th>\n",
       "      <th>relationship</th>\n",
       "      <th>race</th>\n",
       "      <th>gender</th>\n",
       "      <th>capital-gain</th>\n",
       "      <th>capital-loss</th>\n",
       "      <th>hours-per-week</th>\n",
       "      <th>native-country</th>\n",
       "      <th>income</th>\n",
       "    </tr>\n",
       "  </thead>\n",
       "  <tbody>\n",
       "    <tr>\n",
       "      <th>0</th>\n",
       "      <td>25</td>\n",
       "      <td>3</td>\n",
       "      <td>226802</td>\n",
       "      <td>7</td>\n",
       "      <td>4</td>\n",
       "      <td>6</td>\n",
       "      <td>3</td>\n",
       "      <td>2</td>\n",
       "      <td>1</td>\n",
       "      <td>0</td>\n",
       "      <td>0</td>\n",
       "      <td>40</td>\n",
       "      <td>39</td>\n",
       "      <td>&lt;=50K</td>\n",
       "    </tr>\n",
       "    <tr>\n",
       "      <th>1</th>\n",
       "      <td>38</td>\n",
       "      <td>3</td>\n",
       "      <td>89814</td>\n",
       "      <td>9</td>\n",
       "      <td>2</td>\n",
       "      <td>4</td>\n",
       "      <td>0</td>\n",
       "      <td>4</td>\n",
       "      <td>1</td>\n",
       "      <td>0</td>\n",
       "      <td>0</td>\n",
       "      <td>50</td>\n",
       "      <td>39</td>\n",
       "      <td>&lt;=50K</td>\n",
       "    </tr>\n",
       "    <tr>\n",
       "      <th>2</th>\n",
       "      <td>28</td>\n",
       "      <td>1</td>\n",
       "      <td>336951</td>\n",
       "      <td>12</td>\n",
       "      <td>2</td>\n",
       "      <td>11</td>\n",
       "      <td>0</td>\n",
       "      <td>4</td>\n",
       "      <td>1</td>\n",
       "      <td>0</td>\n",
       "      <td>0</td>\n",
       "      <td>40</td>\n",
       "      <td>39</td>\n",
       "      <td>&gt;50K</td>\n",
       "    </tr>\n",
       "    <tr>\n",
       "      <th>3</th>\n",
       "      <td>44</td>\n",
       "      <td>3</td>\n",
       "      <td>160323</td>\n",
       "      <td>10</td>\n",
       "      <td>2</td>\n",
       "      <td>6</td>\n",
       "      <td>0</td>\n",
       "      <td>2</td>\n",
       "      <td>1</td>\n",
       "      <td>7688</td>\n",
       "      <td>0</td>\n",
       "      <td>40</td>\n",
       "      <td>39</td>\n",
       "      <td>&gt;50K</td>\n",
       "    </tr>\n",
       "    <tr>\n",
       "      <th>4</th>\n",
       "      <td>18</td>\n",
       "      <td>2</td>\n",
       "      <td>103497</td>\n",
       "      <td>10</td>\n",
       "      <td>4</td>\n",
       "      <td>8</td>\n",
       "      <td>3</td>\n",
       "      <td>4</td>\n",
       "      <td>0</td>\n",
       "      <td>0</td>\n",
       "      <td>0</td>\n",
       "      <td>30</td>\n",
       "      <td>39</td>\n",
       "      <td>&lt;=50K</td>\n",
       "    </tr>\n",
       "  </tbody>\n",
       "</table>\n",
       "</div>"
      ],
      "text/plain": [
       "   age  workclass  fnlwgt  educational-num  marital-status  occupation  \\\n",
       "0   25          3  226802                7               4           6   \n",
       "1   38          3   89814                9               2           4   \n",
       "2   28          1  336951               12               2          11   \n",
       "3   44          3  160323               10               2           6   \n",
       "4   18          2  103497               10               4           8   \n",
       "\n",
       "   relationship  race  gender  capital-gain  capital-loss  hours-per-week  \\\n",
       "0             3     2       1             0             0              40   \n",
       "1             0     4       1             0             0              50   \n",
       "2             0     4       1             0             0              40   \n",
       "3             0     2       1          7688             0              40   \n",
       "4             3     4       0             0             0              30   \n",
       "\n",
       "   native-country income  \n",
       "0              39  <=50K  \n",
       "1              39  <=50K  \n",
       "2              39   >50K  \n",
       "3              39   >50K  \n",
       "4              39  <=50K  "
      ]
     },
     "execution_count": 25,
     "metadata": {},
     "output_type": "execute_result"
    }
   ],
   "source": [
    "data.head()"
   ]
  },
  {
   "cell_type": "code",
   "execution_count": 26,
   "id": "91e19585",
   "metadata": {},
   "outputs": [],
   "source": [
    "data['income'] = data['income'].map({'<=50K': 0, '>50K': 1})"
   ]
  },
  {
   "cell_type": "code",
   "execution_count": 27,
   "id": "163ed8ce",
   "metadata": {},
   "outputs": [
    {
     "data": {
      "application/vnd.microsoft.datawrangler.viewer.v0+json": {
       "columns": [
        {
         "name": "index",
         "rawType": "int64",
         "type": "integer"
        },
        {
         "name": "age",
         "rawType": "int64",
         "type": "integer"
        },
        {
         "name": "workclass",
         "rawType": "int64",
         "type": "integer"
        },
        {
         "name": "fnlwgt",
         "rawType": "int64",
         "type": "integer"
        },
        {
         "name": "educational-num",
         "rawType": "int64",
         "type": "integer"
        },
        {
         "name": "marital-status",
         "rawType": "int64",
         "type": "integer"
        },
        {
         "name": "occupation",
         "rawType": "int64",
         "type": "integer"
        },
        {
         "name": "relationship",
         "rawType": "int64",
         "type": "integer"
        },
        {
         "name": "race",
         "rawType": "int64",
         "type": "integer"
        },
        {
         "name": "gender",
         "rawType": "int64",
         "type": "integer"
        },
        {
         "name": "capital-gain",
         "rawType": "int64",
         "type": "integer"
        },
        {
         "name": "capital-loss",
         "rawType": "int64",
         "type": "integer"
        },
        {
         "name": "hours-per-week",
         "rawType": "int64",
         "type": "integer"
        },
        {
         "name": "native-country",
         "rawType": "int64",
         "type": "integer"
        },
        {
         "name": "income",
         "rawType": "int64",
         "type": "integer"
        }
       ],
       "ref": "caefb43a-6ec9-4956-995c-4fb52295e891",
       "rows": [
        [
         "0",
         "25",
         "3",
         "226802",
         "7",
         "4",
         "6",
         "3",
         "2",
         "1",
         "0",
         "0",
         "40",
         "39",
         "0"
        ],
        [
         "1",
         "38",
         "3",
         "89814",
         "9",
         "2",
         "4",
         "0",
         "4",
         "1",
         "0",
         "0",
         "50",
         "39",
         "0"
        ],
        [
         "2",
         "28",
         "1",
         "336951",
         "12",
         "2",
         "11",
         "0",
         "4",
         "1",
         "0",
         "0",
         "40",
         "39",
         "1"
        ],
        [
         "3",
         "44",
         "3",
         "160323",
         "10",
         "2",
         "6",
         "0",
         "2",
         "1",
         "7688",
         "0",
         "40",
         "39",
         "1"
        ],
        [
         "4",
         "18",
         "2",
         "103497",
         "10",
         "4",
         "8",
         "3",
         "4",
         "0",
         "0",
         "0",
         "30",
         "39",
         "0"
        ]
       ],
       "shape": {
        "columns": 14,
        "rows": 5
       }
      },
      "text/html": [
       "<div>\n",
       "<style scoped>\n",
       "    .dataframe tbody tr th:only-of-type {\n",
       "        vertical-align: middle;\n",
       "    }\n",
       "\n",
       "    .dataframe tbody tr th {\n",
       "        vertical-align: top;\n",
       "    }\n",
       "\n",
       "    .dataframe thead th {\n",
       "        text-align: right;\n",
       "    }\n",
       "</style>\n",
       "<table border=\"1\" class=\"dataframe\">\n",
       "  <thead>\n",
       "    <tr style=\"text-align: right;\">\n",
       "      <th></th>\n",
       "      <th>age</th>\n",
       "      <th>workclass</th>\n",
       "      <th>fnlwgt</th>\n",
       "      <th>educational-num</th>\n",
       "      <th>marital-status</th>\n",
       "      <th>occupation</th>\n",
       "      <th>relationship</th>\n",
       "      <th>race</th>\n",
       "      <th>gender</th>\n",
       "      <th>capital-gain</th>\n",
       "      <th>capital-loss</th>\n",
       "      <th>hours-per-week</th>\n",
       "      <th>native-country</th>\n",
       "      <th>income</th>\n",
       "    </tr>\n",
       "  </thead>\n",
       "  <tbody>\n",
       "    <tr>\n",
       "      <th>0</th>\n",
       "      <td>25</td>\n",
       "      <td>3</td>\n",
       "      <td>226802</td>\n",
       "      <td>7</td>\n",
       "      <td>4</td>\n",
       "      <td>6</td>\n",
       "      <td>3</td>\n",
       "      <td>2</td>\n",
       "      <td>1</td>\n",
       "      <td>0</td>\n",
       "      <td>0</td>\n",
       "      <td>40</td>\n",
       "      <td>39</td>\n",
       "      <td>0</td>\n",
       "    </tr>\n",
       "    <tr>\n",
       "      <th>1</th>\n",
       "      <td>38</td>\n",
       "      <td>3</td>\n",
       "      <td>89814</td>\n",
       "      <td>9</td>\n",
       "      <td>2</td>\n",
       "      <td>4</td>\n",
       "      <td>0</td>\n",
       "      <td>4</td>\n",
       "      <td>1</td>\n",
       "      <td>0</td>\n",
       "      <td>0</td>\n",
       "      <td>50</td>\n",
       "      <td>39</td>\n",
       "      <td>0</td>\n",
       "    </tr>\n",
       "    <tr>\n",
       "      <th>2</th>\n",
       "      <td>28</td>\n",
       "      <td>1</td>\n",
       "      <td>336951</td>\n",
       "      <td>12</td>\n",
       "      <td>2</td>\n",
       "      <td>11</td>\n",
       "      <td>0</td>\n",
       "      <td>4</td>\n",
       "      <td>1</td>\n",
       "      <td>0</td>\n",
       "      <td>0</td>\n",
       "      <td>40</td>\n",
       "      <td>39</td>\n",
       "      <td>1</td>\n",
       "    </tr>\n",
       "    <tr>\n",
       "      <th>3</th>\n",
       "      <td>44</td>\n",
       "      <td>3</td>\n",
       "      <td>160323</td>\n",
       "      <td>10</td>\n",
       "      <td>2</td>\n",
       "      <td>6</td>\n",
       "      <td>0</td>\n",
       "      <td>2</td>\n",
       "      <td>1</td>\n",
       "      <td>7688</td>\n",
       "      <td>0</td>\n",
       "      <td>40</td>\n",
       "      <td>39</td>\n",
       "      <td>1</td>\n",
       "    </tr>\n",
       "    <tr>\n",
       "      <th>4</th>\n",
       "      <td>18</td>\n",
       "      <td>2</td>\n",
       "      <td>103497</td>\n",
       "      <td>10</td>\n",
       "      <td>4</td>\n",
       "      <td>8</td>\n",
       "      <td>3</td>\n",
       "      <td>4</td>\n",
       "      <td>0</td>\n",
       "      <td>0</td>\n",
       "      <td>0</td>\n",
       "      <td>30</td>\n",
       "      <td>39</td>\n",
       "      <td>0</td>\n",
       "    </tr>\n",
       "  </tbody>\n",
       "</table>\n",
       "</div>"
      ],
      "text/plain": [
       "   age  workclass  fnlwgt  educational-num  marital-status  occupation  \\\n",
       "0   25          3  226802                7               4           6   \n",
       "1   38          3   89814                9               2           4   \n",
       "2   28          1  336951               12               2          11   \n",
       "3   44          3  160323               10               2           6   \n",
       "4   18          2  103497               10               4           8   \n",
       "\n",
       "   relationship  race  gender  capital-gain  capital-loss  hours-per-week  \\\n",
       "0             3     2       1             0             0              40   \n",
       "1             0     4       1             0             0              50   \n",
       "2             0     4       1             0             0              40   \n",
       "3             0     2       1          7688             0              40   \n",
       "4             3     4       0             0             0              30   \n",
       "\n",
       "   native-country  income  \n",
       "0              39       0  \n",
       "1              39       0  \n",
       "2              39       1  \n",
       "3              39       1  \n",
       "4              39       0  "
      ]
     },
     "execution_count": 27,
     "metadata": {},
     "output_type": "execute_result"
    }
   ],
   "source": [
    "data.head()"
   ]
  },
  {
   "cell_type": "code",
   "execution_count": 28,
   "id": "7c8072cd",
   "metadata": {},
   "outputs": [],
   "source": [
    "X = data.drop(columns=['income'])\n",
    "y = data['income']"
   ]
  },
  {
   "cell_type": "code",
   "execution_count": 29,
   "id": "80cf0240",
   "metadata": {},
   "outputs": [
    {
     "data": {
      "application/vnd.microsoft.datawrangler.viewer.v0+json": {
       "columns": [
        {
         "name": "index",
         "rawType": "int64",
         "type": "integer"
        },
        {
         "name": "age",
         "rawType": "int64",
         "type": "integer"
        },
        {
         "name": "workclass",
         "rawType": "int64",
         "type": "integer"
        },
        {
         "name": "fnlwgt",
         "rawType": "int64",
         "type": "integer"
        },
        {
         "name": "educational-num",
         "rawType": "int64",
         "type": "integer"
        },
        {
         "name": "marital-status",
         "rawType": "int64",
         "type": "integer"
        },
        {
         "name": "occupation",
         "rawType": "int64",
         "type": "integer"
        },
        {
         "name": "relationship",
         "rawType": "int64",
         "type": "integer"
        },
        {
         "name": "race",
         "rawType": "int64",
         "type": "integer"
        },
        {
         "name": "gender",
         "rawType": "int64",
         "type": "integer"
        },
        {
         "name": "capital-gain",
         "rawType": "int64",
         "type": "integer"
        },
        {
         "name": "capital-loss",
         "rawType": "int64",
         "type": "integer"
        },
        {
         "name": "hours-per-week",
         "rawType": "int64",
         "type": "integer"
        },
        {
         "name": "native-country",
         "rawType": "int64",
         "type": "integer"
        }
       ],
       "ref": "4e39e28e-8f03-4a5f-9ff0-6325cc068690",
       "rows": [
        [
         "0",
         "25",
         "3",
         "226802",
         "7",
         "4",
         "6",
         "3",
         "2",
         "1",
         "0",
         "0",
         "40",
         "39"
        ],
        [
         "1",
         "38",
         "3",
         "89814",
         "9",
         "2",
         "4",
         "0",
         "4",
         "1",
         "0",
         "0",
         "50",
         "39"
        ],
        [
         "2",
         "28",
         "1",
         "336951",
         "12",
         "2",
         "11",
         "0",
         "4",
         "1",
         "0",
         "0",
         "40",
         "39"
        ],
        [
         "3",
         "44",
         "3",
         "160323",
         "10",
         "2",
         "6",
         "0",
         "2",
         "1",
         "7688",
         "0",
         "40",
         "39"
        ],
        [
         "4",
         "18",
         "2",
         "103497",
         "10",
         "4",
         "8",
         "3",
         "4",
         "0",
         "0",
         "0",
         "30",
         "39"
        ],
        [
         "5",
         "34",
         "3",
         "198693",
         "6",
         "4",
         "7",
         "1",
         "4",
         "1",
         "0",
         "0",
         "30",
         "39"
        ],
        [
         "6",
         "29",
         "2",
         "227026",
         "9",
         "4",
         "8",
         "4",
         "2",
         "1",
         "0",
         "0",
         "40",
         "39"
        ],
        [
         "7",
         "63",
         "5",
         "104626",
         "15",
         "2",
         "10",
         "0",
         "4",
         "1",
         "3103",
         "0",
         "32",
         "39"
        ],
        [
         "8",
         "24",
         "3",
         "369667",
         "10",
         "4",
         "7",
         "4",
         "4",
         "0",
         "0",
         "0",
         "40",
         "39"
        ],
        [
         "10",
         "65",
         "3",
         "184454",
         "9",
         "2",
         "6",
         "0",
         "4",
         "1",
         "6418",
         "0",
         "40",
         "39"
        ]
       ],
       "shape": {
        "columns": 13,
        "rows": 10
       }
      },
      "text/html": [
       "<div>\n",
       "<style scoped>\n",
       "    .dataframe tbody tr th:only-of-type {\n",
       "        vertical-align: middle;\n",
       "    }\n",
       "\n",
       "    .dataframe tbody tr th {\n",
       "        vertical-align: top;\n",
       "    }\n",
       "\n",
       "    .dataframe thead th {\n",
       "        text-align: right;\n",
       "    }\n",
       "</style>\n",
       "<table border=\"1\" class=\"dataframe\">\n",
       "  <thead>\n",
       "    <tr style=\"text-align: right;\">\n",
       "      <th></th>\n",
       "      <th>age</th>\n",
       "      <th>workclass</th>\n",
       "      <th>fnlwgt</th>\n",
       "      <th>educational-num</th>\n",
       "      <th>marital-status</th>\n",
       "      <th>occupation</th>\n",
       "      <th>relationship</th>\n",
       "      <th>race</th>\n",
       "      <th>gender</th>\n",
       "      <th>capital-gain</th>\n",
       "      <th>capital-loss</th>\n",
       "      <th>hours-per-week</th>\n",
       "      <th>native-country</th>\n",
       "    </tr>\n",
       "  </thead>\n",
       "  <tbody>\n",
       "    <tr>\n",
       "      <th>0</th>\n",
       "      <td>25</td>\n",
       "      <td>3</td>\n",
       "      <td>226802</td>\n",
       "      <td>7</td>\n",
       "      <td>4</td>\n",
       "      <td>6</td>\n",
       "      <td>3</td>\n",
       "      <td>2</td>\n",
       "      <td>1</td>\n",
       "      <td>0</td>\n",
       "      <td>0</td>\n",
       "      <td>40</td>\n",
       "      <td>39</td>\n",
       "    </tr>\n",
       "    <tr>\n",
       "      <th>1</th>\n",
       "      <td>38</td>\n",
       "      <td>3</td>\n",
       "      <td>89814</td>\n",
       "      <td>9</td>\n",
       "      <td>2</td>\n",
       "      <td>4</td>\n",
       "      <td>0</td>\n",
       "      <td>4</td>\n",
       "      <td>1</td>\n",
       "      <td>0</td>\n",
       "      <td>0</td>\n",
       "      <td>50</td>\n",
       "      <td>39</td>\n",
       "    </tr>\n",
       "    <tr>\n",
       "      <th>2</th>\n",
       "      <td>28</td>\n",
       "      <td>1</td>\n",
       "      <td>336951</td>\n",
       "      <td>12</td>\n",
       "      <td>2</td>\n",
       "      <td>11</td>\n",
       "      <td>0</td>\n",
       "      <td>4</td>\n",
       "      <td>1</td>\n",
       "      <td>0</td>\n",
       "      <td>0</td>\n",
       "      <td>40</td>\n",
       "      <td>39</td>\n",
       "    </tr>\n",
       "    <tr>\n",
       "      <th>3</th>\n",
       "      <td>44</td>\n",
       "      <td>3</td>\n",
       "      <td>160323</td>\n",
       "      <td>10</td>\n",
       "      <td>2</td>\n",
       "      <td>6</td>\n",
       "      <td>0</td>\n",
       "      <td>2</td>\n",
       "      <td>1</td>\n",
       "      <td>7688</td>\n",
       "      <td>0</td>\n",
       "      <td>40</td>\n",
       "      <td>39</td>\n",
       "    </tr>\n",
       "    <tr>\n",
       "      <th>4</th>\n",
       "      <td>18</td>\n",
       "      <td>2</td>\n",
       "      <td>103497</td>\n",
       "      <td>10</td>\n",
       "      <td>4</td>\n",
       "      <td>8</td>\n",
       "      <td>3</td>\n",
       "      <td>4</td>\n",
       "      <td>0</td>\n",
       "      <td>0</td>\n",
       "      <td>0</td>\n",
       "      <td>30</td>\n",
       "      <td>39</td>\n",
       "    </tr>\n",
       "    <tr>\n",
       "      <th>5</th>\n",
       "      <td>34</td>\n",
       "      <td>3</td>\n",
       "      <td>198693</td>\n",
       "      <td>6</td>\n",
       "      <td>4</td>\n",
       "      <td>7</td>\n",
       "      <td>1</td>\n",
       "      <td>4</td>\n",
       "      <td>1</td>\n",
       "      <td>0</td>\n",
       "      <td>0</td>\n",
       "      <td>30</td>\n",
       "      <td>39</td>\n",
       "    </tr>\n",
       "    <tr>\n",
       "      <th>6</th>\n",
       "      <td>29</td>\n",
       "      <td>2</td>\n",
       "      <td>227026</td>\n",
       "      <td>9</td>\n",
       "      <td>4</td>\n",
       "      <td>8</td>\n",
       "      <td>4</td>\n",
       "      <td>2</td>\n",
       "      <td>1</td>\n",
       "      <td>0</td>\n",
       "      <td>0</td>\n",
       "      <td>40</td>\n",
       "      <td>39</td>\n",
       "    </tr>\n",
       "    <tr>\n",
       "      <th>7</th>\n",
       "      <td>63</td>\n",
       "      <td>5</td>\n",
       "      <td>104626</td>\n",
       "      <td>15</td>\n",
       "      <td>2</td>\n",
       "      <td>10</td>\n",
       "      <td>0</td>\n",
       "      <td>4</td>\n",
       "      <td>1</td>\n",
       "      <td>3103</td>\n",
       "      <td>0</td>\n",
       "      <td>32</td>\n",
       "      <td>39</td>\n",
       "    </tr>\n",
       "    <tr>\n",
       "      <th>8</th>\n",
       "      <td>24</td>\n",
       "      <td>3</td>\n",
       "      <td>369667</td>\n",
       "      <td>10</td>\n",
       "      <td>4</td>\n",
       "      <td>7</td>\n",
       "      <td>4</td>\n",
       "      <td>4</td>\n",
       "      <td>0</td>\n",
       "      <td>0</td>\n",
       "      <td>0</td>\n",
       "      <td>40</td>\n",
       "      <td>39</td>\n",
       "    </tr>\n",
       "    <tr>\n",
       "      <th>10</th>\n",
       "      <td>65</td>\n",
       "      <td>3</td>\n",
       "      <td>184454</td>\n",
       "      <td>9</td>\n",
       "      <td>2</td>\n",
       "      <td>6</td>\n",
       "      <td>0</td>\n",
       "      <td>4</td>\n",
       "      <td>1</td>\n",
       "      <td>6418</td>\n",
       "      <td>0</td>\n",
       "      <td>40</td>\n",
       "      <td>39</td>\n",
       "    </tr>\n",
       "  </tbody>\n",
       "</table>\n",
       "</div>"
      ],
      "text/plain": [
       "    age  workclass  fnlwgt  educational-num  marital-status  occupation  \\\n",
       "0    25          3  226802                7               4           6   \n",
       "1    38          3   89814                9               2           4   \n",
       "2    28          1  336951               12               2          11   \n",
       "3    44          3  160323               10               2           6   \n",
       "4    18          2  103497               10               4           8   \n",
       "5    34          3  198693                6               4           7   \n",
       "6    29          2  227026                9               4           8   \n",
       "7    63          5  104626               15               2          10   \n",
       "8    24          3  369667               10               4           7   \n",
       "10   65          3  184454                9               2           6   \n",
       "\n",
       "    relationship  race  gender  capital-gain  capital-loss  hours-per-week  \\\n",
       "0              3     2       1             0             0              40   \n",
       "1              0     4       1             0             0              50   \n",
       "2              0     4       1             0             0              40   \n",
       "3              0     2       1          7688             0              40   \n",
       "4              3     4       0             0             0              30   \n",
       "5              1     4       1             0             0              30   \n",
       "6              4     2       1             0             0              40   \n",
       "7              0     4       1          3103             0              32   \n",
       "8              4     4       0             0             0              40   \n",
       "10             0     4       1          6418             0              40   \n",
       "\n",
       "    native-country  \n",
       "0               39  \n",
       "1               39  \n",
       "2               39  \n",
       "3               39  \n",
       "4               39  \n",
       "5               39  \n",
       "6               39  \n",
       "7               39  \n",
       "8               39  \n",
       "10              39  "
      ]
     },
     "execution_count": 29,
     "metadata": {},
     "output_type": "execute_result"
    }
   ],
   "source": [
    "X.head(10)"
   ]
  },
  {
   "cell_type": "code",
   "execution_count": 30,
   "id": "63c649a5",
   "metadata": {},
   "outputs": [
    {
     "data": {
      "application/vnd.microsoft.datawrangler.viewer.v0+json": {
       "columns": [
        {
         "name": "index",
         "rawType": "int64",
         "type": "integer"
        },
        {
         "name": "income",
         "rawType": "int64",
         "type": "integer"
        }
       ],
       "ref": "9fb683c1-b429-4d30-a9fb-f051e6a87c02",
       "rows": [
        [
         "0",
         "0"
        ],
        [
         "1",
         "0"
        ],
        [
         "2",
         "1"
        ],
        [
         "3",
         "1"
        ],
        [
         "4",
         "0"
        ],
        [
         "5",
         "0"
        ],
        [
         "6",
         "0"
        ],
        [
         "7",
         "1"
        ],
        [
         "8",
         "0"
        ],
        [
         "10",
         "1"
        ]
       ],
       "shape": {
        "columns": 1,
        "rows": 10
       }
      },
      "text/plain": [
       "0     0\n",
       "1     0\n",
       "2     1\n",
       "3     1\n",
       "4     0\n",
       "5     0\n",
       "6     0\n",
       "7     1\n",
       "8     0\n",
       "10    1\n",
       "Name: income, dtype: int64"
      ]
     },
     "execution_count": 30,
     "metadata": {},
     "output_type": "execute_result"
    }
   ],
   "source": [
    "y.head(10)"
   ]
  },
  {
   "cell_type": "code",
   "execution_count": 31,
   "id": "01416c21",
   "metadata": {},
   "outputs": [],
   "source": [
    "scaler = StandardScaler()\n",
    "\n",
    "X_scaled = pd.DataFrame(scaler.fit_transform(X), columns=X.columns)"
   ]
  },
  {
   "cell_type": "code",
   "execution_count": 32,
   "id": "454f4d4d",
   "metadata": {},
   "outputs": [
    {
     "data": {
      "application/vnd.microsoft.datawrangler.viewer.v0+json": {
       "columns": [
        {
         "name": "index",
         "rawType": "int64",
         "type": "integer"
        },
        {
         "name": "age",
         "rawType": "float64",
         "type": "float"
        },
        {
         "name": "workclass",
         "rawType": "float64",
         "type": "float"
        },
        {
         "name": "fnlwgt",
         "rawType": "float64",
         "type": "float"
        },
        {
         "name": "educational-num",
         "rawType": "float64",
         "type": "float"
        },
        {
         "name": "marital-status",
         "rawType": "float64",
         "type": "float"
        },
        {
         "name": "occupation",
         "rawType": "float64",
         "type": "float"
        },
        {
         "name": "relationship",
         "rawType": "float64",
         "type": "float"
        },
        {
         "name": "race",
         "rawType": "float64",
         "type": "float"
        },
        {
         "name": "gender",
         "rawType": "float64",
         "type": "float"
        },
        {
         "name": "capital-gain",
         "rawType": "float64",
         "type": "float"
        },
        {
         "name": "capital-loss",
         "rawType": "float64",
         "type": "float"
        },
        {
         "name": "hours-per-week",
         "rawType": "float64",
         "type": "float"
        },
        {
         "name": "native-country",
         "rawType": "float64",
         "type": "float"
        }
       ],
       "ref": "2cb5ce0d-7a29-484a-b58a-96e5bd48c6c3",
       "rows": [
        [
         "0",
         "-0.9962791382303876",
         "-0.03440779709655277",
         "0.3573557337496203",
         "-1.491890949500652",
         "0.9270492012060159",
         "-0.10117643865851311",
         "0.961358414033887",
         "-1.9710201857854113",
         "0.7092078057650543",
         "-0.14608253137609425",
         "-0.21874346162733904",
         "-0.04713377200505215",
         "0.2654764667066112"
        ],
        [
         "1",
         "-0.0036462132108119405",
         "-0.03440779709655277",
         "-0.9420921543571541",
         "-0.5978050935183225",
         "-0.4048819962952162",
         "-0.5595264060904664",
         "-0.9070757103073077",
         "0.3919482924197548",
         "0.7092078057650543",
         "-0.14608253137609425",
         "-0.21874346162733904",
         "0.7681229115964574",
         "0.2654764667066112"
        ],
        [
         "2",
         "-0.7672100016874086",
         "-1.7817254931301796",
         "1.4022128411391221",
         "0.743323690455172",
         "-0.4048819962952162",
         "1.0446984799213703",
         "-0.9070757103073077",
         "0.3919482924197548",
         "0.7092078057650543",
         "-0.14608253137609425",
         "-0.21874346162733904",
         "-0.04713377200505215",
         "0.2654764667066112"
        ],
        [
         "3",
         "0.45449205987514607",
         "-0.03440779709655277",
         "-0.2732542186071573",
         "-0.15076216552715763",
         "-0.4048819962952162",
         "-0.10117643865851311",
         "-0.9070757103073077",
         "-1.9710201857854113",
         "0.7092078057650543",
         "0.8702100470286699",
         "-0.21874346162733904",
         "-0.04713377200505215",
         "0.2654764667066112"
        ],
        [
         "4",
         "-1.5307737901640053",
         "-0.9080666451133661",
         "-0.8122972420074228",
         "-0.15076216552715763",
         "0.9270492012060159",
         "0.3571735287734402",
         "0.961358414033887",
         "0.3919482924197548",
         "-1.410023961765699",
         "-0.14608253137609425",
         "-0.21874346162733904",
         "-0.8623904556065618",
         "0.2654764667066112"
        ]
       ],
       "shape": {
        "columns": 13,
        "rows": 5
       }
      },
      "text/html": [
       "<div>\n",
       "<style scoped>\n",
       "    .dataframe tbody tr th:only-of-type {\n",
       "        vertical-align: middle;\n",
       "    }\n",
       "\n",
       "    .dataframe tbody tr th {\n",
       "        vertical-align: top;\n",
       "    }\n",
       "\n",
       "    .dataframe thead th {\n",
       "        text-align: right;\n",
       "    }\n",
       "</style>\n",
       "<table border=\"1\" class=\"dataframe\">\n",
       "  <thead>\n",
       "    <tr style=\"text-align: right;\">\n",
       "      <th></th>\n",
       "      <th>age</th>\n",
       "      <th>workclass</th>\n",
       "      <th>fnlwgt</th>\n",
       "      <th>educational-num</th>\n",
       "      <th>marital-status</th>\n",
       "      <th>occupation</th>\n",
       "      <th>relationship</th>\n",
       "      <th>race</th>\n",
       "      <th>gender</th>\n",
       "      <th>capital-gain</th>\n",
       "      <th>capital-loss</th>\n",
       "      <th>hours-per-week</th>\n",
       "      <th>native-country</th>\n",
       "    </tr>\n",
       "  </thead>\n",
       "  <tbody>\n",
       "    <tr>\n",
       "      <th>0</th>\n",
       "      <td>-0.996279</td>\n",
       "      <td>-0.034408</td>\n",
       "      <td>0.357356</td>\n",
       "      <td>-1.491891</td>\n",
       "      <td>0.927049</td>\n",
       "      <td>-0.101176</td>\n",
       "      <td>0.961358</td>\n",
       "      <td>-1.971020</td>\n",
       "      <td>0.709208</td>\n",
       "      <td>-0.146083</td>\n",
       "      <td>-0.218743</td>\n",
       "      <td>-0.047134</td>\n",
       "      <td>0.265476</td>\n",
       "    </tr>\n",
       "    <tr>\n",
       "      <th>1</th>\n",
       "      <td>-0.003646</td>\n",
       "      <td>-0.034408</td>\n",
       "      <td>-0.942092</td>\n",
       "      <td>-0.597805</td>\n",
       "      <td>-0.404882</td>\n",
       "      <td>-0.559526</td>\n",
       "      <td>-0.907076</td>\n",
       "      <td>0.391948</td>\n",
       "      <td>0.709208</td>\n",
       "      <td>-0.146083</td>\n",
       "      <td>-0.218743</td>\n",
       "      <td>0.768123</td>\n",
       "      <td>0.265476</td>\n",
       "    </tr>\n",
       "    <tr>\n",
       "      <th>2</th>\n",
       "      <td>-0.767210</td>\n",
       "      <td>-1.781725</td>\n",
       "      <td>1.402213</td>\n",
       "      <td>0.743324</td>\n",
       "      <td>-0.404882</td>\n",
       "      <td>1.044698</td>\n",
       "      <td>-0.907076</td>\n",
       "      <td>0.391948</td>\n",
       "      <td>0.709208</td>\n",
       "      <td>-0.146083</td>\n",
       "      <td>-0.218743</td>\n",
       "      <td>-0.047134</td>\n",
       "      <td>0.265476</td>\n",
       "    </tr>\n",
       "    <tr>\n",
       "      <th>3</th>\n",
       "      <td>0.454492</td>\n",
       "      <td>-0.034408</td>\n",
       "      <td>-0.273254</td>\n",
       "      <td>-0.150762</td>\n",
       "      <td>-0.404882</td>\n",
       "      <td>-0.101176</td>\n",
       "      <td>-0.907076</td>\n",
       "      <td>-1.971020</td>\n",
       "      <td>0.709208</td>\n",
       "      <td>0.870210</td>\n",
       "      <td>-0.218743</td>\n",
       "      <td>-0.047134</td>\n",
       "      <td>0.265476</td>\n",
       "    </tr>\n",
       "    <tr>\n",
       "      <th>4</th>\n",
       "      <td>-1.530774</td>\n",
       "      <td>-0.908067</td>\n",
       "      <td>-0.812297</td>\n",
       "      <td>-0.150762</td>\n",
       "      <td>0.927049</td>\n",
       "      <td>0.357174</td>\n",
       "      <td>0.961358</td>\n",
       "      <td>0.391948</td>\n",
       "      <td>-1.410024</td>\n",
       "      <td>-0.146083</td>\n",
       "      <td>-0.218743</td>\n",
       "      <td>-0.862390</td>\n",
       "      <td>0.265476</td>\n",
       "    </tr>\n",
       "  </tbody>\n",
       "</table>\n",
       "</div>"
      ],
      "text/plain": [
       "        age  workclass    fnlwgt  educational-num  marital-status  occupation  \\\n",
       "0 -0.996279  -0.034408  0.357356        -1.491891        0.927049   -0.101176   \n",
       "1 -0.003646  -0.034408 -0.942092        -0.597805       -0.404882   -0.559526   \n",
       "2 -0.767210  -1.781725  1.402213         0.743324       -0.404882    1.044698   \n",
       "3  0.454492  -0.034408 -0.273254        -0.150762       -0.404882   -0.101176   \n",
       "4 -1.530774  -0.908067 -0.812297        -0.150762        0.927049    0.357174   \n",
       "\n",
       "   relationship      race    gender  capital-gain  capital-loss  \\\n",
       "0      0.961358 -1.971020  0.709208     -0.146083     -0.218743   \n",
       "1     -0.907076  0.391948  0.709208     -0.146083     -0.218743   \n",
       "2     -0.907076  0.391948  0.709208     -0.146083     -0.218743   \n",
       "3     -0.907076 -1.971020  0.709208      0.870210     -0.218743   \n",
       "4      0.961358  0.391948 -1.410024     -0.146083     -0.218743   \n",
       "\n",
       "   hours-per-week  native-country  \n",
       "0       -0.047134        0.265476  \n",
       "1        0.768123        0.265476  \n",
       "2       -0.047134        0.265476  \n",
       "3       -0.047134        0.265476  \n",
       "4       -0.862390        0.265476  "
      ]
     },
     "execution_count": 32,
     "metadata": {},
     "output_type": "execute_result"
    }
   ],
   "source": [
    "X_scaled.head()"
   ]
  },
  {
   "cell_type": "code",
   "execution_count": 33,
   "id": "3052e5aa",
   "metadata": {},
   "outputs": [],
   "source": [
    "with open('scaler.pkl', 'wb') as f:\n",
    "    pickle.dump(scaler, f)"
   ]
  },
  {
   "cell_type": "code",
   "execution_count": 34,
   "id": "696f9f4e",
   "metadata": {},
   "outputs": [],
   "source": [
    "X_train, X_test, y_train, y_test = train_test_split(X_scaled, y, test_size=0.2, random_state=42)"
   ]
  },
  {
   "cell_type": "code",
   "execution_count": 35,
   "id": "8cb23540",
   "metadata": {},
   "outputs": [
    {
     "data": {
      "text/plain": [
       "((37376, 13), (37376,))"
      ]
     },
     "execution_count": 35,
     "metadata": {},
     "output_type": "execute_result"
    }
   ],
   "source": [
    "X_train.shape,y_train.shape"
   ]
  },
  {
   "cell_type": "code",
   "execution_count": 36,
   "id": "74421d0f",
   "metadata": {},
   "outputs": [
    {
     "data": {
      "text/plain": [
       "((9344, 13), (9344,))"
      ]
     },
     "execution_count": 36,
     "metadata": {},
     "output_type": "execute_result"
    }
   ],
   "source": [
    "X_test.shape,y_test.shape"
   ]
  },
  {
   "cell_type": "code",
   "execution_count": 37,
   "id": "108a47cd",
   "metadata": {},
   "outputs": [],
   "source": [
    "with open(\"column_order.pkl\", \"wb\") as f:\n",
    "    pickle.dump(X_train.columns.tolist(), f)"
   ]
  },
  {
   "cell_type": "code",
   "execution_count": 38,
   "id": "494f3d3a",
   "metadata": {},
   "outputs": [],
   "source": [
    "models = {\n",
    "    \"Logistic Regression\": LogisticRegression(),\n",
    "    \"Random Forest\": RandomForestClassifier(),\n",
    "    \"SVM\": SVC(),\n",
    "    \"KNN\": KNeighborsClassifier(),\n",
    "    \"GradientBoostingClassifier\": GradientBoostingClassifier()\n",
    "}\n"
   ]
  },
  {
   "cell_type": "code",
   "execution_count": 39,
   "id": "4011654b",
   "metadata": {},
   "outputs": [],
   "source": [
    "results = {}"
   ]
  },
  {
   "cell_type": "code",
   "execution_count": 40,
   "id": "ca23ea0b",
   "metadata": {},
   "outputs": [
    {
     "name": "stdout",
     "output_type": "stream",
     "text": [
      "Saved best model: GradientBoostingClassifier with accuracy 0.8557\n"
     ]
    }
   ],
   "source": [
    "best_accuracy = 0\n",
    "best_model = None\n",
    "best_model_name = \"\"\n",
    "\n",
    "\n",
    "for name, model in models.items():\n",
    "    model.fit(X_train, y_train)\n",
    "    y_pred = model.predict(X_test)\n",
    "    acc = accuracy_score(y_test, y_pred)\n",
    "    results[name] = acc\n",
    "    \n",
    "    if acc > best_accuracy:\n",
    "        best_accuracy = acc\n",
    "        best_model = model\n",
    "        best_model_name = name\n",
    "\n",
    "with open(f'{best_model_name}_best_model.pkl', 'wb') as file:\n",
    "    pickle.dump(best_model, file)\n",
    "    \n",
    "print(f\"Saved best model: {best_model_name} with accuracy {best_accuracy:.4f}\")\n"
   ]
  },
  {
   "cell_type": "code",
   "execution_count": 41,
   "id": "67f29f75",
   "metadata": {},
   "outputs": [
    {
     "data": {
      "application/vnd.microsoft.datawrangler.viewer.v0+json": {
       "columns": [
        {
         "name": "index",
         "rawType": "int64",
         "type": "integer"
        },
        {
         "name": "Model",
         "rawType": "object",
         "type": "string"
        },
        {
         "name": "Accuracy",
         "rawType": "float64",
         "type": "float"
        }
       ],
       "ref": "fb6f3083-f8eb-4dd7-8671-0181ef42aa05",
       "rows": [
        [
         "4",
         "GradientBoostingClassifier",
         "0.855736301369863"
        ],
        [
         "1",
         "Random Forest",
         "0.8508133561643836"
        ],
        [
         "2",
         "SVM",
         "0.8392551369863014"
        ],
        [
         "3",
         "KNN",
         "0.823951198630137"
        ],
        [
         "0",
         "Logistic Regression",
         "0.815068493150685"
        ]
       ],
       "shape": {
        "columns": 2,
        "rows": 5
       }
      },
      "text/html": [
       "<div>\n",
       "<style scoped>\n",
       "    .dataframe tbody tr th:only-of-type {\n",
       "        vertical-align: middle;\n",
       "    }\n",
       "\n",
       "    .dataframe tbody tr th {\n",
       "        vertical-align: top;\n",
       "    }\n",
       "\n",
       "    .dataframe thead th {\n",
       "        text-align: right;\n",
       "    }\n",
       "</style>\n",
       "<table border=\"1\" class=\"dataframe\">\n",
       "  <thead>\n",
       "    <tr style=\"text-align: right;\">\n",
       "      <th></th>\n",
       "      <th>Model</th>\n",
       "      <th>Accuracy</th>\n",
       "    </tr>\n",
       "  </thead>\n",
       "  <tbody>\n",
       "    <tr>\n",
       "      <th>4</th>\n",
       "      <td>GradientBoostingClassifier</td>\n",
       "      <td>0.855736</td>\n",
       "    </tr>\n",
       "    <tr>\n",
       "      <th>1</th>\n",
       "      <td>Random Forest</td>\n",
       "      <td>0.850813</td>\n",
       "    </tr>\n",
       "    <tr>\n",
       "      <th>2</th>\n",
       "      <td>SVM</td>\n",
       "      <td>0.839255</td>\n",
       "    </tr>\n",
       "    <tr>\n",
       "      <th>3</th>\n",
       "      <td>KNN</td>\n",
       "      <td>0.823951</td>\n",
       "    </tr>\n",
       "    <tr>\n",
       "      <th>0</th>\n",
       "      <td>Logistic Regression</td>\n",
       "      <td>0.815068</td>\n",
       "    </tr>\n",
       "  </tbody>\n",
       "</table>\n",
       "</div>"
      ],
      "text/plain": [
       "                        Model  Accuracy\n",
       "4  GradientBoostingClassifier  0.855736\n",
       "1               Random Forest  0.850813\n",
       "2                         SVM  0.839255\n",
       "3                         KNN  0.823951\n",
       "0         Logistic Regression  0.815068"
      ]
     },
     "execution_count": 41,
     "metadata": {},
     "output_type": "execute_result"
    }
   ],
   "source": [
    "results_df = pd.DataFrame(list(results.items()), columns=['Model', 'Accuracy'])\n",
    "results_df.sort_values(by='Accuracy', ascending=False)"
   ]
  },
  {
   "cell_type": "code",
   "execution_count": 42,
   "id": "3f51495d",
   "metadata": {},
   "outputs": [
    {
     "name": "stdout",
     "output_type": "stream",
     "text": [
      "Writing app.py\n"
     ]
    }
   ],
   "source": [
    "%%writefile app.py\n",
    "import streamlit as st\n",
    "import pandas as pd\n",
    "import joblib\n",
    "\n",
    "# Load the trained model\n",
    "model = joblib.load(\"GradientBoostingClassifier_best_model.pkl\")\n",
    "\n",
    "st.set_page_config(page_title=\"Employee Salary Classification\", page_icon=\"💼\", layout=\"centered\")\n",
    "\n",
    "st.title(\"💼 Employee Salary Classification App\")\n",
    "st.markdown(\"Predict whether an employee earns >50K or ≤50K based on input features.\")\n",
    "\n",
    "# Sidebar inputs (these must match your training feature columns)\n",
    "st.sidebar.header(\"Input Employee Details\")\n",
    "\n",
    "# ✨ Replace these fields with your dataset's actual input columns\n",
    "age = st.sidebar.slider(\"Age\", 18, 65, 30)\n",
    "education = st.sidebar.selectbox(\"Education Level\", [\n",
    "    \"Bachelors\", \"Masters\", \"PhD\", \"HS-grad\", \"Assoc\", \"Some-college\"\n",
    "])\n",
    "occupation = st.sidebar.selectbox(\"Job Role\", [\n",
    "    \"Tech-support\", \"Craft-repair\", \"Other-service\", \"Sales\",\n",
    "    \"Exec-managerial\", \"Prof-specialty\", \"Handlers-cleaners\", \"Machine-op-inspct\",\n",
    "    \"Adm-clerical\", \"Farming-fishing\", \"Transport-moving\", \"Priv-house-serv\",\n",
    "    \"Protective-serv\", \"Armed-Forces\"\n",
    "])\n",
    "hours_per_week = st.sidebar.slider(\"Hours per week\", 1, 80, 40)\n",
    "experience = st.sidebar.slider(\"Years of Experience\", 0, 40, 5)\n",
    "\n",
    "# Build input DataFrame (⚠️ must match preprocessing of your training data)\n",
    "input_df = pd.DataFrame({\n",
    "    'age': [age],\n",
    "    'education': [education],\n",
    "    'occupation': [occupation],\n",
    "    'hours-per-week': [hours_per_week],\n",
    "    'experience': [experience]\n",
    "})\n",
    "\n",
    "st.write(\"### 🔎 Input Data\")\n",
    "st.write(input_df)\n",
    "\n",
    "# Predict button\n",
    "if st.button(\"Predict Salary Class\"):\n",
    "    prediction = model.predict(input_df)\n",
    "    st.success(f\"✅ Prediction: {prediction[0]}\")\n",
    "\n",
    "# Batch prediction\n",
    "st.markdown(\"---\")\n",
    "st.markdown(\"#### 📂 Batch Prediction\")\n",
    "uploaded_file = st.file_uploader(\"Upload a CSV file for batch prediction\", type=\"csv\")\n",
    "\n",
    "if uploaded_file is not None:\n",
    "    batch_data = pd.read_csv(uploaded_file)\n",
    "    st.write(\"Uploaded data preview:\", batch_data.head())\n",
    "    batch_preds = model.predict(batch_data)\n",
    "    batch_data['PredictedClass'] = batch_preds\n",
    "    st.write(\"✅ Predictions:\")\n",
    "    st.write(batch_data.head())\n",
    "    csv = batch_data.to_csv(index=False).encode('utf-8')\n",
    "    st.download_button(\"Download Predictions CSV\", csv, file_name='predicted_classes.csv', mime='text/csv')\n",
    "\n"
   ]
  },
  {
   "cell_type": "code",
   "execution_count": null,
   "id": "37b61c49",
   "metadata": {},
   "outputs": [],
   "source": [
    "!streamlit run app.py"
   ]
  },
  {
   "cell_type": "code",
   "execution_count": null,
   "id": "8bb9ba64",
   "metadata": {},
   "outputs": [],
   "source": []
  }
 ],
 "metadata": {
  "kernelspec": {
   "display_name": "env",
   "language": "python",
   "name": "python3"
  },
  "language_info": {
   "codemirror_mode": {
    "name": "ipython",
    "version": 3
   },
   "file_extension": ".py",
   "mimetype": "text/x-python",
   "name": "python",
   "nbconvert_exporter": "python",
   "pygments_lexer": "ipython3",
   "version": "3.10.11"
  }
 },
 "nbformat": 4,
 "nbformat_minor": 5
}
